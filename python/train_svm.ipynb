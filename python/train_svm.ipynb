{
 "cells": [
  {
   "cell_type": "code",
   "execution_count": 1,
   "metadata": {},
   "outputs": [],
   "source": [
    "from train_svm import load_ml_data"
   ]
  },
  {
   "cell_type": "code",
   "execution_count": 2,
   "metadata": {},
   "outputs": [],
   "source": [
    "ws = [90, 90]\n",
    "winL, winR = ws\n",
    "\n",
    "do_preprocess=True\n",
    "reduced_DS=False\n",
    "maxRR=True\n",
    "use_RR=True\n",
    "norm_RR=True\n",
    "compute_morph=['wvlt', 'HOS', 'lbp', 'OurMorph']"
   ]
  },
  {
   "cell_type": "code",
   "execution_count": 3,
   "metadata": {},
   "outputs": [
    {
     "name": "stdout",
     "output_type": "stream",
     "text": [
      "Loading pickle: /home/congyu/dataset/ECG/mitdb/ml_learning/features/w_90_90_DS12_rm_bsline_maxRR_norm_RR_resample_10_lbp_hbf5_wvlt_HOS_MLII.pkl...\n",
      "normalizing the data ... \n"
     ]
    }
   ],
   "source": [
    "tr_features, tr_labels, eval_features, eval_labels = load_ml_data(\n",
    "    (winL, winR),\n",
    "    do_preprocess,\n",
    "    reduced_DS,\n",
    "    maxRR,\n",
    "    use_RR,\n",
    "    norm_RR,\n",
    "    compute_morph,\n",
    "    cross_patient=False,\n",
    "    verbose=True)"
   ]
  },
  {
   "cell_type": "code",
   "execution_count": 4,
   "metadata": {},
   "outputs": [
    {
     "name": "stdout",
     "output_type": "stream",
     "text": [
      "(80554, 78)\n",
      "(80554,)\n",
      "(20139, 78)\n",
      "(20139,)\n"
     ]
    }
   ],
   "source": [
    "print(tr_features.shape)\n",
    "print(tr_labels.shape)\n",
    "print(eval_features.shape)\n",
    "print(eval_labels.shape)"
   ]
  },
  {
   "cell_type": "code",
   "execution_count": 7,
   "metadata": {},
   "outputs": [],
   "source": [
    "from utils import calc_class_weights\n",
    "class_weights = calc_class_weights(tr_labels)"
   ]
  },
  {
   "cell_type": "code",
   "execution_count": 8,
   "metadata": {},
   "outputs": [],
   "source": [
    "from sklearn import svm"
   ]
  },
  {
   "cell_type": "code",
   "execution_count": 9,
   "metadata": {},
   "outputs": [],
   "source": [
    "svm_model = svm.SVC(C=0.01, \n",
    "                    kernel='rbf', \n",
    "                    degree=3, \n",
    "                    gamma='auto',\n",
    "                    coef0=0.0, \n",
    "                    shrinking=True, \n",
    "                    probability=False, \n",
    "                    tol=0.001,\n",
    "                    cache_size=200, \n",
    "                    class_weight=class_weights, \n",
    "                    max_iter=-1, \n",
    "                    decision_function_shape=\"ovo\", \n",
    "                    random_state=None)"
   ]
  },
  {
   "cell_type": "code",
   "execution_count": 10,
   "metadata": {},
   "outputs": [],
   "source": [
    "from utils import PrintTime"
   ]
  },
  {
   "cell_type": "code",
   "execution_count": 11,
   "metadata": {},
   "outputs": [
    {
     "name": "stdout",
     "output_type": "stream",
     "text": [
      "\n",
      "working on training the model ...\n",
      "time for training the model: 568.87 sec\n",
      "\n"
     ]
    }
   ],
   "source": [
    "with PrintTime(\"training the model\"):\n",
    "    svm_model.fit(tr_features, tr_labels)"
   ]
  },
  {
   "cell_type": "code",
   "execution_count": null,
   "metadata": {},
   "outputs": [],
   "source": [
    "from sklearn.metrics import f1_score, classification_report\n",
    "from constant import AAMI_CLASSES"
   ]
  },
  {
   "cell_type": "code",
   "execution_count": null,
   "metadata": {},
   "outputs": [],
   "source": [
    "y_pred = svm_model.predict(eval_features)"
   ]
  },
  {
   "cell_type": "code",
   "execution_count": null,
   "metadata": {},
   "outputs": [],
   "source": [
    "print(\"marco f1 score\", f1_score(eval_labels, y_pred, average='macro'))"
   ]
  },
  {
   "cell_type": "code",
   "execution_count": null,
   "metadata": {},
   "outputs": [],
   "source": [
    "print(classification_report(eval_labels, y_pred, target_names=AAMI_CLASSES))"
   ]
  },
  {
   "cell_type": "code",
   "execution_count": null,
   "metadata": {},
   "outputs": [],
   "source": [
    "model_svm_path=\"/home/congyu/dataset/ECG/mitdb/ml_learning/svm_models/baseline_model.joblib.pkl\""
   ]
  },
  {
   "cell_type": "code",
   "execution_count": null,
   "metadata": {},
   "outputs": [],
   "source": [
    "import os\n",
    "import joblib"
   ]
  },
  {
   "cell_type": "code",
   "execution_count": null,
   "metadata": {},
   "outputs": [],
   "source": [
    "if model_svm_path:\n",
    "    # Export model: save/write trained SVM model\n",
    "    if not os.path.exists(os.path.dirname(model_svm_path)):\n",
    "        os.makedirs(os.path.dirname(model_svm_path))\n",
    "    joblib.dump(svm_model, model_svm_path)"
   ]
  },
  {
   "cell_type": "code",
   "execution_count": null,
   "metadata": {},
   "outputs": [],
   "source": []
  },
  {
   "cell_type": "code",
   "execution_count": null,
   "metadata": {},
   "outputs": [],
   "source": []
  },
  {
   "cell_type": "code",
   "execution_count": null,
   "metadata": {},
   "outputs": [],
   "source": []
  },
  {
   "cell_type": "code",
   "execution_count": null,
   "metadata": {},
   "outputs": [],
   "source": [
    "decision_ovo = svm_model.decision_function(eval_features)"
   ]
  },
  {
   "cell_type": "code",
   "execution_count": null,
   "metadata": {},
   "outputs": [],
   "source": [
    "predict_ovo, counter = ovo_voting(decision_ovo, 4)"
   ]
  },
  {
   "cell_type": "code",
   "execution_count": null,
   "metadata": {},
   "outputs": [],
   "source": [
    "perf_measures = compute_AAMI_performance_measures(predict_ovo, labels)\n",
    "write_AAAMI_results_gamma(output_path, gamma_value, perf_measures, C_value, voting_strategy, DS)"
   ]
  }
 ],
 "metadata": {
  "kernelspec": {
   "display_name": "congyuml",
   "language": "python",
   "name": "congyuml"
  },
  "language_info": {
   "codemirror_mode": {
    "name": "ipython",
    "version": 3
   },
   "file_extension": ".py",
   "mimetype": "text/x-python",
   "name": "python",
   "nbconvert_exporter": "python",
   "pygments_lexer": "ipython3",
   "version": "3.6.9"
  }
 },
 "nbformat": 4,
 "nbformat_minor": 4
}
