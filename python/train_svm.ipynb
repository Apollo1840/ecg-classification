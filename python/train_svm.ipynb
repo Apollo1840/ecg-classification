{
 "cells": [
  {
   "cell_type": "code",
   "execution_count": 1,
   "metadata": {},
   "outputs": [],
   "source": [
    "from train_svm import load_ml_data"
   ]
  },
  {
   "cell_type": "code",
   "execution_count": 2,
   "metadata": {},
   "outputs": [],
   "source": [
    "ws = [90, 90]\n",
    "winL, winR = ws\n",
    "\n",
    "do_preprocess=True\n",
    "reduced_DS=False\n",
    "maxRR=True\n",
    "use_RR=True\n",
    "norm_RR=True\n",
    "compute_morph=['wvlt', 'HOS', 'lbp', 'OurMorph']"
   ]
  },
  {
   "cell_type": "code",
   "execution_count": 3,
   "metadata": {},
   "outputs": [
    {
     "name": "stderr",
     "output_type": "stream",
     "text": [
      "\r",
      "  0%|          | 0/44 [00:00<?, ?it/s]"
     ]
    },
    {
     "name": "stdout",
     "output_type": "stream",
     "text": [
      "Loading MIT BIH arr (DS12) ...\n"
     ]
    },
    {
     "name": "stderr",
     "output_type": "stream",
     "text": [
      "100%|██████████| 44/44 [08:10<00:00, 11.14s/it]\n"
     ]
    },
    {
     "name": "stdout",
     "output_type": "stream",
     "text": [
      "Saving signal processed data ...\n",
      "getting rr features ...\n",
      "\n",
      "working on rr ...\n",
      "time for rr: 0.00 sec\n",
      "\n",
      "\n",
      "working on norm_rr ...\n",
      "time for norm_rr: 0.01 sec\n",
      "\n",
      "\n",
      "working on lbp ...\n",
      "(100693, 24)\n",
      "time for lbp: 133.88 sec\n",
      "\n",
      "\n",
      "working on wvlt ...\n",
      "(100693, 47)\n",
      "time for wvlt: 94.33 sec\n",
      "\n",
      "\n",
      "working on HOS ...\n",
      "(100693, 57)\n",
      "time for HOS: 158.72 sec\n",
      "\n",
      "\n",
      "working on OurMorph ...\n",
      "(100693, 61)\n",
      "time for OurMorph: 10.41 sec\n",
      "\n",
      "writing pickle: /home/congyu/dataset/ECG/mitdb/ml_learning/features/w_90_90_DS12_rm_bsline_maxRR_RR_norm_RR_wvlt_HOS_lbp_OurMorph_MLII.pkl...\n",
      "normalizing the data ... \n"
     ]
    }
   ],
   "source": [
    "tr_features, tr_labels, eval_features, eval_labels = load_ml_data(\n",
    "    (winL, winR),\n",
    "    do_preprocess,\n",
    "    reduced_DS,\n",
    "    maxRR,\n",
    "    use_RR,\n",
    "    norm_RR,\n",
    "    compute_morph,\n",
    "    cross_patient=False,\n",
    "    verbose=True)"
   ]
  },
  {
   "cell_type": "code",
   "execution_count": 4,
   "metadata": {},
   "outputs": [
    {
     "name": "stdout",
     "output_type": "stream",
     "text": [
      "(80554, 61)\n",
      "(80554,)\n",
      "(20139, 61)\n",
      "(20139,)\n"
     ]
    }
   ],
   "source": [
    "print(tr_features.shape)\n",
    "print(tr_labels.shape)\n",
    "print(eval_features.shape)\n",
    "print(eval_labels.shape)"
   ]
  },
  {
   "cell_type": "code",
   "execution_count": 5,
   "metadata": {},
   "outputs": [],
   "source": [
    "from utils import calc_class_weights\n",
    "class_weights = calc_class_weights(tr_labels)"
   ]
  },
  {
   "cell_type": "code",
   "execution_count": 6,
   "metadata": {},
   "outputs": [],
   "source": [
    "from sklearn import svm"
   ]
  },
  {
   "cell_type": "code",
   "execution_count": 7,
   "metadata": {},
   "outputs": [],
   "source": [
    "svm_model = svm.SVC(C=0.1, \n",
    "                    kernel='rbf', \n",
    "                    degree=3, \n",
    "                    gamma='auto',\n",
    "                    coef0=0.0, \n",
    "                    shrinking=True, \n",
    "                    probability=False, \n",
    "                    tol=0.001,\n",
    "                    cache_size=200, \n",
    "                    class_weight=class_weights, \n",
    "                    max_iter=-1, \n",
    "                    decision_function_shape=\"ovo\", \n",
    "                    random_state=None)"
   ]
  },
  {
   "cell_type": "code",
   "execution_count": 8,
   "metadata": {},
   "outputs": [],
   "source": [
    "from utils import PrintTime"
   ]
  },
  {
   "cell_type": "code",
   "execution_count": 9,
   "metadata": {},
   "outputs": [
    {
     "name": "stdout",
     "output_type": "stream",
     "text": [
      "\n",
      "working on training the model ...\n",
      "time for training the model: 182.94 sec\n",
      "\n"
     ]
    }
   ],
   "source": [
    "with PrintTime(\"training the model\"):\n",
    "    svm_model.fit(tr_features, tr_labels)"
   ]
  },
  {
   "cell_type": "code",
   "execution_count": 11,
   "metadata": {},
   "outputs": [],
   "source": [
    "from sklearn.metrics import f1_score, classification_report\n",
    "from config import AAMI_CLASSES"
   ]
  },
  {
   "cell_type": "code",
   "execution_count": 13,
   "metadata": {},
   "outputs": [],
   "source": [
    "y_pred = svm_model.predict(eval_features)"
   ]
  },
  {
   "cell_type": "code",
   "execution_count": 14,
   "metadata": {},
   "outputs": [
    {
     "name": "stdout",
     "output_type": "stream",
     "text": [
      "marco f1 score 0.8256143183983469\n"
     ]
    }
   ],
   "source": [
    "print(\"macro f1 score\", f1_score(eval_labels, y_pred, average='macro'))"
   ]
  },
  {
   "cell_type": "code",
   "execution_count": 15,
   "metadata": {},
   "outputs": [
    {
     "name": "stdout",
     "output_type": "stream",
     "text": [
      "              precision    recall  f1-score   support\n",
      "\n",
      "           F       0.43      0.90      0.58       176\n",
      "           N       1.00      0.97      0.98     18019\n",
      "        SVEB       0.67      0.95      0.79       577\n",
      "         VEB       0.93      0.99      0.96      1367\n",
      "\n",
      "    accuracy                           0.97     20139\n",
      "   macro avg       0.75      0.95      0.83     20139\n",
      "weighted avg       0.98      0.97      0.97     20139\n",
      "\n"
     ]
    }
   ],
   "source": [
    "print(classification_report(eval_labels, y_pred, target_names=AAMI_CLASSES))"
   ]
  },
  {
   "cell_type": "code",
   "execution_count": null,
   "metadata": {},
   "outputs": [],
   "source": []
  },
  {
   "cell_type": "code",
   "execution_count": 16,
   "metadata": {},
   "outputs": [],
   "source": [
    "model_svm_path=\"/home/congyu/dataset/ECG/mitdb/ml_learning/svm_models/baseline_model.joblib.pkl\""
   ]
  },
  {
   "cell_type": "code",
   "execution_count": null,
   "metadata": {},
   "outputs": [],
   "source": [
    "import os\n",
    "import joblib"
   ]
  },
  {
   "cell_type": "code",
   "execution_count": null,
   "metadata": {},
   "outputs": [],
   "source": [
    "if model_svm_path:\n",
    "    # Export model: save/write trained SVM model\n",
    "    if not os.path.exists(os.path.dirname(model_svm_path)):\n",
    "        os.makedirs(os.path.dirname(model_svm_path))\n",
    "    joblib.dump(svm_model, model_svm_path)"
   ]
  },
  {
   "cell_type": "code",
   "execution_count": null,
   "metadata": {},
   "outputs": [],
   "source": []
  },
  {
   "cell_type": "code",
   "execution_count": null,
   "metadata": {},
   "outputs": [],
   "source": []
  },
  {
   "cell_type": "code",
   "execution_count": null,
   "metadata": {},
   "outputs": [],
   "source": []
  },
  {
   "cell_type": "code",
   "execution_count": null,
   "metadata": {},
   "outputs": [],
   "source": [
    "decision_ovo = svm_model.decision_function(eval_features)"
   ]
  },
  {
   "cell_type": "code",
   "execution_count": null,
   "metadata": {},
   "outputs": [],
   "source": [
    "predict_ovo, counter = ovo_voting(decision_ovo, 4)"
   ]
  },
  {
   "cell_type": "code",
   "execution_count": null,
   "metadata": {},
   "outputs": [],
   "source": [
    "perf_measures = compute_AAMI_performance_measures(predict_ovo, labels)\n",
    "write_AAAMI_results_gamma(output_path, gamma_value, perf_measures, C_value, voting_strategy, DS)"
   ]
  }
 ],
 "metadata": {
  "kernelspec": {
   "display_name": "congyuml",
   "language": "python",
   "name": "congyuml"
  },
  "language_info": {
   "codemirror_mode": {
    "name": "ipython",
    "version": 3
   },
   "file_extension": ".py",
   "mimetype": "text/x-python",
   "name": "python",
   "nbconvert_exporter": "python",
   "pygments_lexer": "ipython3",
   "version": "3.6.8"
  }
 },
 "nbformat": 4,
 "nbformat_minor": 4
}
