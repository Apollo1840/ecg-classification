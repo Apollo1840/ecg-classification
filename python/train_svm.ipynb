{
 "cells": [
  {
   "cell_type": "code",
   "execution_count": 1,
   "metadata": {},
   "outputs": [],
   "source": [
    "from sklearn.preprocessing import StandardScaler"
   ]
  },
  {
   "cell_type": "code",
   "execution_count": 2,
   "metadata": {},
   "outputs": [
    {
     "name": "stderr",
     "output_type": "stream",
     "text": [
      "Using TensorFlow backend.\n",
      "/home/congyu/.virtualenvs/congyuml/lib/python3.6/site-packages/tensorflow/python/framework/dtypes.py:516: FutureWarning: Passing (type, 1) or '1type' as a synonym of type is deprecated; in a future version of numpy, it will be understood as (type, (1,)) / '(1,)type'.\n",
      "  _np_qint8 = np.dtype([(\"qint8\", np.int8, 1)])\n",
      "/home/congyu/.virtualenvs/congyuml/lib/python3.6/site-packages/tensorflow/python/framework/dtypes.py:517: FutureWarning: Passing (type, 1) or '1type' as a synonym of type is deprecated; in a future version of numpy, it will be understood as (type, (1,)) / '(1,)type'.\n",
      "  _np_quint8 = np.dtype([(\"quint8\", np.uint8, 1)])\n",
      "/home/congyu/.virtualenvs/congyuml/lib/python3.6/site-packages/tensorflow/python/framework/dtypes.py:518: FutureWarning: Passing (type, 1) or '1type' as a synonym of type is deprecated; in a future version of numpy, it will be understood as (type, (1,)) / '(1,)type'.\n",
      "  _np_qint16 = np.dtype([(\"qint16\", np.int16, 1)])\n",
      "/home/congyu/.virtualenvs/congyuml/lib/python3.6/site-packages/tensorflow/python/framework/dtypes.py:519: FutureWarning: Passing (type, 1) or '1type' as a synonym of type is deprecated; in a future version of numpy, it will be understood as (type, (1,)) / '(1,)type'.\n",
      "  _np_quint16 = np.dtype([(\"quint16\", np.uint16, 1)])\n",
      "/home/congyu/.virtualenvs/congyuml/lib/python3.6/site-packages/tensorflow/python/framework/dtypes.py:520: FutureWarning: Passing (type, 1) or '1type' as a synonym of type is deprecated; in a future version of numpy, it will be understood as (type, (1,)) / '(1,)type'.\n",
      "  _np_qint32 = np.dtype([(\"qint32\", np.int32, 1)])\n",
      "/home/congyu/.virtualenvs/congyuml/lib/python3.6/site-packages/tensorflow/python/framework/dtypes.py:525: FutureWarning: Passing (type, 1) or '1type' as a synonym of type is deprecated; in a future version of numpy, it will be understood as (type, (1,)) / '(1,)type'.\n",
      "  np_resource = np.dtype([(\"resource\", np.ubyte, 1)])\n"
     ]
    }
   ],
   "source": [
    "from load_MITBIH import load_mit_db\n",
    "import mit_db\n",
    "from features_ECG import *\n",
    "from train_SVM import train_model, main, trival_main"
   ]
  },
  {
   "cell_type": "code",
   "execution_count": 3,
   "metadata": {},
   "outputs": [
    {
     "name": "stdout",
     "output_type": "stream",
     "text": [
      "Loading pickle: /home/congyu/dataset/ECG/mitdb/ml_learning/features/w_90_90_DS1_resample_10_lbp_hbf5_wvlt_HOS_MLII.pkl...\n"
     ]
    }
   ],
   "source": [
    "tr_features, tr_labels, _ = load_mit_db(\n",
    "    DS=\"DS1\",\n",
    "    ws=[90, 90],\n",
    "    do_preprocess=False,\n",
    "    maxRR=False,\n",
    "    use_RR=False,\n",
    "    norm_RR=False,\n",
    "    compute_morph=['resample_10', 'lbp', 'hbf5', 'wvlt', 'HOS'],\n",
    "    leads_flag=[1, 0],\n",
    "    is_save=False)"
   ]
  },
  {
   "cell_type": "code",
   "execution_count": 4,
   "metadata": {},
   "outputs": [],
   "source": [
    "scaler = StandardScaler()\n",
    "scaler.fit(tr_features)\n",
    "tr_features_scaled = scaler.transform(tr_features)"
   ]
  },
  {
   "cell_type": "code",
   "execution_count": 5,
   "metadata": {},
   "outputs": [],
   "source": [
    "# model = train_model(\"\", tr_features_scaled, tr_labels)"
   ]
  },
  {
   "cell_type": "code",
   "execution_count": 6,
   "metadata": {},
   "outputs": [
    {
     "name": "stdout",
     "output_type": "stream",
     "text": [
      "Runing train_SVM.py!\n",
      "loading the data ...\n",
      "Loading pickle: /home/congyu/dataset/ECG/mitdb/ml_learning/features/w_90_90_DS1_resample_10_lbp_hbf5_wvlt_HOS_MLII.pkl...\n",
      "Loading pickle: /home/congyu/dataset/ECG/mitdb/ml_learning/features/w_90_90_DS2_resample_10_lbp_hbf5_wvlt_HOS_MLII.pkl...\n",
      "normalizing the data ... \n",
      "Training model on MIT-BIH DS1: ...\n",
      "Testing model on MIT-BIH DS2: /home/congyu/dataset/ECG/mitdb/ml_learning/svm_models/ovr_rbf_exp_2_MLII_resample_10_lbp_hbf5_wvlt_HOS_C_0.001.joblib.pkl...\n",
      "Evaluation on DS1 ...\n",
      "make evaluation decision...\n",
      "make evaluation predict...\n",
      "{'n_classes': 4, 'confusion_matrix': array([[3.420e+02, 4.300e+01, 1.000e+01, 1.900e+01],\n",
      "       [3.128e+03, 3.254e+04, 8.647e+03, 1.509e+03],\n",
      "       [1.000e+01, 2.350e+02, 7.150e+02, 1.600e+01],\n",
      "       [1.320e+02, 2.990e+02, 1.330e+02, 3.224e+03]]), 'Recall': array([0.82608696, 0.71010824, 0.73258197, 0.85110876]), 'Precision': array([0.09468439, 0.98257692, 0.07535041, 0.6761745 ]), 'Specificity': array([0.93536016, 0.88856701, 0.82455509, 0.96729784]), 'Acc': array([0.93447316, 0.72822634, 0.82279449, 0.95866829]), 'F_measure': array([0.16989568, 0.82441317, 0.13664596, 0.75362319]), 'gmean_se': 0.0, 'gmean_p': 0.0, 'Overall_Acc': 0.721952080310576, 'kappa': 0.31432727236129804, 'Ij': 2.500617537407839, 'Ijk': 0.4697408283566289}\n",
      "Results writed at /home/congyu/ECG/model_train_log/ecg_classification/results/ovr_exp_2_MLII_resample_10_lbp_hbf5_wvlt_HOS/Train_C_0.001\n",
      "Evaluation on DS2 ...\n",
      "make evaluation decision...\n",
      "make evaluation predict...\n",
      "{'n_classes': 4, 'confusion_matrix': array([[5.3000e+01, 1.7000e+01, 5.0000e+00, 3.1300e+02],\n",
      "       [3.3530e+03, 2.5916e+04, 1.1767e+04, 2.9970e+03],\n",
      "       [1.6000e+01, 5.8600e+02, 1.3960e+03, 5.2000e+01],\n",
      "       [1.7700e+02, 1.6500e+02, 7.5000e+01, 2.8030e+03]]), 'Recall': array([0.13659794, 0.58855858, 0.68097561, 0.87049689]), 'Precision': array([0.01472631, 0.97121871, 0.10582973, 0.45466342]), 'Specificity': array([0.9280774 , 0.86426299, 0.75214861, 0.92765381]), 'Acc': array([0.92189733, 0.6199513 , 0.74920929, 0.92395001]), 'F_measure': array([0.02658641, 0.73294964, 0.18319008, 0.59733617]), 'gmean_se': 0.0, 'gmean_p': 0.0, 'Overall_Acc': 0.6071119518625103, 'kappa': 0.22130402440692679, 'Ij': 2.346582631053502, 'Ijk': 0.40397484108515114}\n",
      "Results writed at /home/congyu/ECG/model_train_log/ecg_classification/results/ovr_exp_2_MLII_resample_10_lbp_hbf5_wvlt_HOS/C_0.001\n",
      "Evaluation on DS1 ...\n",
      "make evaluation decision...\n",
      "make evaluation predict...\n",
      "{'n_classes': 4, 'confusion_matrix': array([[3.420e+02, 4.300e+01, 1.000e+01, 1.900e+01],\n",
      "       [3.128e+03, 3.254e+04, 8.647e+03, 1.509e+03],\n",
      "       [1.000e+01, 2.350e+02, 7.150e+02, 1.600e+01],\n",
      "       [1.320e+02, 2.990e+02, 1.330e+02, 3.224e+03]]), 'Recall': array([0.82608696, 0.71010824, 0.73258197, 0.85110876]), 'Precision': array([0.09468439, 0.98257692, 0.07535041, 0.6761745 ]), 'Specificity': array([0.93536016, 0.88856701, 0.82455509, 0.96729784]), 'Acc': array([0.93447316, 0.72822634, 0.82279449, 0.95866829]), 'F_measure': array([0.16989568, 0.82441317, 0.13664596, 0.75362319]), 'gmean_se': 0.0, 'gmean_p': 0.0, 'Overall_Acc': 0.721952080310576, 'kappa': 0.31432727236129804, 'Ij': 2.500617537407839, 'Ijk': 0.4697408283566289}\n",
      "Results writed at /home/congyu/ECG/model_train_log/ecg_classification/results/ovr_exp_2_MLII_resample_10_lbp_hbf5_wvlt_HOS/Train_C_0.001\n",
      "Evaluation on DS2 ...\n",
      "make evaluation decision...\n",
      "make evaluation predict...\n",
      "{'n_classes': 4, 'confusion_matrix': array([[5.3000e+01, 1.7000e+01, 5.0000e+00, 3.1300e+02],\n",
      "       [3.3530e+03, 2.5916e+04, 1.1767e+04, 2.9970e+03],\n",
      "       [1.6000e+01, 5.8600e+02, 1.3960e+03, 5.2000e+01],\n",
      "       [1.7700e+02, 1.6500e+02, 7.5000e+01, 2.8030e+03]]), 'Recall': array([0.13659794, 0.58855858, 0.68097561, 0.87049689]), 'Precision': array([0.01472631, 0.97121871, 0.10582973, 0.45466342]), 'Specificity': array([0.9280774 , 0.86426299, 0.75214861, 0.92765381]), 'Acc': array([0.92189733, 0.6199513 , 0.74920929, 0.92395001]), 'F_measure': array([0.02658641, 0.73294964, 0.18319008, 0.59733617]), 'gmean_se': 0.0, 'gmean_p': 0.0, 'Overall_Acc': 0.6071119518625103, 'kappa': 0.22130402440692679, 'Ij': 2.346582631053502, 'Ijk': 0.40397484108515114}\n",
      "Results writed at /home/congyu/ECG/model_train_log/ecg_classification/results/ovr_exp_2_MLII_resample_10_lbp_hbf5_wvlt_HOS/C_0.001\n",
      "congrats! evaluation complete! \n"
     ]
    }
   ],
   "source": [
    "trival_main(\n",
    "    multi_mode=\"ovr\", \n",
    "    winL=90,\n",
    "    winR=90,\n",
    "    do_preprocess=False,\n",
    "    maxRR=False,\n",
    "    use_RR=False,\n",
    "    norm_RR=False,\n",
    "    compute_morph=['resample_10', 'lbp', 'hbf5', 'wvlt', 'HOS'],\n",
    "    reduced_DS=True,\n",
    "    leads_flag=[1, 0],\n",
    ")"
   ]
  },
  {
   "cell_type": "code",
   "execution_count": null,
   "metadata": {},
   "outputs": [],
   "source": []
  }
 ],
 "metadata": {
  "kernelspec": {
   "display_name": "congyuml",
   "language": "python",
   "name": "congyuml"
  },
  "language_info": {
   "codemirror_mode": {
    "name": "ipython",
    "version": 3
   },
   "file_extension": ".py",
   "mimetype": "text/x-python",
   "name": "python",
   "nbconvert_exporter": "python",
   "pygments_lexer": "ipython3",
   "version": "3.6.9"
  }
 },
 "nbformat": 4,
 "nbformat_minor": 2
}
