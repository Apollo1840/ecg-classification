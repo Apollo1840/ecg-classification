{
 "cells": [
  {
   "cell_type": "code",
   "execution_count": 1,
   "metadata": {},
   "outputs": [],
   "source": [
    "from sklearn.preprocessing import StandardScaler"
   ]
  },
  {
   "cell_type": "code",
   "execution_count": 5,
   "metadata": {},
   "outputs": [],
   "source": [
    "from load_MITBIH import load_mit_db\n",
    "import mit_db\n",
    "from features_ECG import *\n",
    "from constant import *\n",
    "from train_SVM import train_model, main, trival_main"
   ]
  },
  {
   "cell_type": "code",
   "execution_count": 8,
   "metadata": {},
   "outputs": [
    {
     "name": "stdout",
     "output_type": "stream",
     "text": [
      "Runing trival_main !\n",
      "loading the data ...\n",
      "Loading pickle: /home/congyu/dataset/ECG/mitdb/ml_learning/features/w_90_90_DS1_rm_bsline_maxRR_norm_RR_resample_10_lbp_hbf5_wvlt_HOS_reduced_MLII_V1.pkl...\n",
      "Loading pickle: /home/congyu/dataset/ECG/mitdb/ml_learning/features/w_90_90_DS2_rm_bsline_maxRR_norm_RR_resample_10_lbp_hbf5_wvlt_HOS_reduced_MLII_V1.pkl...\n",
      "normalizing the data ... \n",
      "Ready to train the model on MIT-BIH DS1: ...\n",
      "Testing model on MIT-BIH DS2: /home/congyu/dataset/ECG/mitdb/ml_learning/svm_models/ovo_rbf_exp_2_MLII_rm_bsln_maxRR_norm_RR_resample_10_lbp_hbf5_wvlt_HOS_C_0.001.joblib.pkl...\n",
      "Evaluation on DS2 ...\n"
     ]
    },
    {
     "name": "stderr",
     "output_type": "stream",
     "text": [
      "/home/congyu/congyu_program/pythons/forks/ecg-classification/python/evaluation_AAMI.py:93: RuntimeWarning: invalid value encountered in double_scalars\n",
      "  pf_ms.Precision[i] = TP / (TP + FP)\n"
     ]
    },
    {
     "name": "stdout",
     "output_type": "stream",
     "text": [
      "{ 'Acc': array([0.00917583, 0.13286035, 0.95237082, 0.92394466]),\n",
      "  'F_measure': array([0.0181848, 0.       , 0.       , 0.       ]),\n",
      "  'Ij': nan,\n",
      "  'Ijk': nan,\n",
      "  'Overall_Acc': 0.009175830672815419,\n",
      "  'Precision': array([0.00917583,        nan,        nan,        nan]),\n",
      "  'Recall': array([1., 0., 0., 0.]),\n",
      "  'Specificity': array([0., 1., 1., 1.]),\n",
      "  'confusion_matrix': array([[  388.,     0.,     0.,     0.],\n",
      "       [36667.,     0.,     0.,     0.],\n",
      "       [ 2014.,     0.,     0.,     0.],\n",
      "       [ 3216.,     0.,     0.,     0.]]),\n",
      "  'gmean_p': 0.0,\n",
      "  'gmean_se': 0.0,\n",
      "  'kappa': 0.0,\n",
      "  'n_classes': 4}\n",
      "Results writed at '/home/congyu/ECG/model_train_log/ecg_classification/results/'/ovo_exp_2_MLII_rm_bsln_maxRR_norm_RR_resample_10_lbp_hbf5_wvlt_HOS/C_0.001\n",
      "congrats! evaluation complete! \n"
     ]
    }
   ],
   "source": [
    "trival_main(\n",
    "    multi_mode=\"ovo\", \n",
    "    winL=90,\n",
    "    winR=90,\n",
    "    do_preprocess=True,\n",
    "    maxRR=True,\n",
    "    use_RR=False,\n",
    "    norm_RR=True,\n",
    "    compute_morph=['resample_10', 'lbp', 'hbf5', 'wvlt', 'HOS'],\n",
    "    reduced_DS=True,\n",
    "    leads_flag=[1, 0],\n",
    ")"
   ]
  },
  {
   "cell_type": "code",
   "execution_count": 6,
   "metadata": {},
   "outputs": [
    {
     "name": "stdout",
     "output_type": "stream",
     "text": [
      "['F', 'N', 'SVEB', 'VEB']\n"
     ]
    }
   ],
   "source": [
    "print(AAMI_CLASSES)"
   ]
  },
  {
   "cell_type": "code",
   "execution_count": null,
   "metadata": {},
   "outputs": [],
   "source": []
  }
 ],
 "metadata": {
  "kernelspec": {
   "display_name": "congyuml",
   "language": "python",
   "name": "congyuml"
  },
  "language_info": {
   "codemirror_mode": {
    "name": "ipython",
    "version": 3
   },
   "file_extension": ".py",
   "mimetype": "text/x-python",
   "name": "python",
   "nbconvert_exporter": "python",
   "pygments_lexer": "ipython3",
   "version": "3.6.9"
  }
 },
 "nbformat": 4,
 "nbformat_minor": 2
}
