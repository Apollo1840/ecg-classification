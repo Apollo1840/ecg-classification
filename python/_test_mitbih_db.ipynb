{
 "cells": [
  {
   "cell_type": "code",
   "execution_count": 1,
   "metadata": {},
   "outputs": [],
   "source": [
    "from data_load import load_mitbih_db"
   ]
  },
  {
   "cell_type": "code",
   "execution_count": 2,
   "metadata": {},
   "outputs": [
    {
     "name": "stderr",
     "output_type": "stream",
     "text": [
      "100%|██████████| 18/18 [00:06<00:00,  2.64it/s]\n"
     ]
    },
    {
     "name": "stdout",
     "output_type": "stream",
     "text": [
      "write load_mitbih_db data to /home/congyu/dataset/ECG/mitdb/ml_learning/python_mit_reduced__wL_90_wR_90_DS1.pkl\n"
     ]
    },
    {
     "data": {
      "text/plain": [
       "<data_base.mit_db at 0x7f0c8c321358>"
      ]
     },
     "execution_count": 2,
     "metadata": {},
     "output_type": "execute_result"
    }
   ],
   "source": [
    "mitbih_db(DS=\"DS1\",\n",
    "               is_reduce=True,\n",
    "               ws=[90, 90],\n",
    "               do_preprocess=False)"
   ]
  },
  {
   "cell_type": "code",
   "execution_count": 5,
   "metadata": {},
   "outputs": [
    {
     "name": "stdout",
     "output_type": "stream",
     "text": [
      "load load_mitbih_db data from /home/congyu/dataset/ECG/mitdb/ml_learning/python_mit_reduced__wL_90_wR_90_DS1.pkl\n"
     ]
    },
    {
     "data": {
      "text/plain": [
       "<data_base.mit_db at 0x7f0c6bb38fd0>"
      ]
     },
     "execution_count": 5,
     "metadata": {},
     "output_type": "execute_result"
    }
   ],
   "source": [
    "mitbih_db(\"DS1\",\n",
    "               is_reduce=True,\n",
    "               ws=[90, 90],\n",
    "               do_preprocess=False)"
   ]
  },
  {
   "cell_type": "code",
   "execution_count": null,
   "metadata": {},
   "outputs": [],
   "source": []
  }
 ],
 "metadata": {
  "kernelspec": {
   "display_name": "congyuml",
   "language": "python",
   "name": "congyuml"
  },
  "language_info": {
   "codemirror_mode": {
    "name": "ipython",
    "version": 3
   },
   "file_extension": ".py",
   "mimetype": "text/x-python",
   "name": "python",
   "nbconvert_exporter": "python",
   "pygments_lexer": "ipython3",
   "version": "3.6.9"
  }
 },
 "nbformat": 4,
 "nbformat_minor": 4
}
