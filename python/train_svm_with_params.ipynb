{
 "cells": [
  {
   "cell_type": "code",
   "execution_count": 1,
   "metadata": {},
   "outputs": [],
   "source": [
    "from pprint import pprint"
   ]
  },
  {
   "cell_type": "code",
   "execution_count": 2,
   "metadata": {},
   "outputs": [],
   "source": [
    "from data_load import load_mit_db\n",
    "from utils import PrintTime"
   ]
  },
  {
   "cell_type": "code",
   "execution_count": 3,
   "metadata": {},
   "outputs": [
    {
     "name": "stdout",
     "output_type": "stream",
     "text": [
      "{'DS': 'DS1', 'is_reduce': True, 'do_preprocess': True, 'ws': [90, 90]}\n",
      "{'DS': 'DS2', 'is_reduce': True, 'do_preprocess': True, 'ws': [90, 90]}\n"
     ]
    },
    {
     "data": {
      "text/plain": [
       "[0, 1]"
      ]
     },
     "execution_count": 3,
     "metadata": {},
     "output_type": "execute_result"
    }
   ],
   "source": [
    "db_params = {\n",
    "    \"DS\": None,\n",
    "    \"is_reduce\": True,\n",
    "    \"do_preprocess\":True,\n",
    "    \"ws\": [90, 90],\n",
    "}\n",
    "\n",
    "ml_features_params={\n",
    "    \"maxRR\": True,\n",
    "    \"use_RR\": False,\n",
    "    \"norm_RR\": True,\n",
    "    \"leads_flag\": [0, 1],\n",
    "    \"compute_morph\": ['resample_10', 'lbp', 'hbf5', 'wvlt', 'HOS'],\n",
    "    \"DS\": \"DS1\",  # for wvlt+pca\n",
    "    \"ws\": [90, 90],  # for mymorph\n",
    "}\n",
    "\n",
    "\n",
    "db_trn_params = {}\n",
    "db_trn_params.update(db_params)\n",
    "db_trn_params[\"DS\"] = \"DS1\"\n",
    "ml_trn_features_params = ml_features_params\n",
    "ml_trn_features_params = {}\n",
    "ml_trn_features_params.update(ml_features_params)\n",
    "ml_trn_features_params[\"DS\"] = \"DS1\"\n",
    "print(db_trn_params)\n",
    "\n",
    "db_val_params = {}\n",
    "db_val_params.update(db_params)\n",
    "db_val_params[\"DS\"] = \"DS2\"\n",
    "ml_val_features_params = ml_features_params\n",
    "ml_val_features_params = {}\n",
    "ml_val_features_params.update(ml_features_params)\n",
    "ml_val_features_params[\"DS\"] = \"DS2\"\n",
    "print(db_val_params)\n",
    "\n",
    "load_trn_params = {}\n",
    "load_trn_params.update(db_trn_params)\n",
    "load_trn_params.update(ml_trn_features_params)\n",
    "load_trn_params.pop(\"leads_flag\")\n",
    "\n",
    "load_val_params = {}\n",
    "load_val_params.update(db_val_params)\n",
    "load_val_params.update(ml_val_features_params)\n",
    "load_val_params.pop(\"leads_flag\")"
   ]
  },
  {
   "cell_type": "code",
   "execution_count": 4,
   "metadata": {
    "scrolled": false
   },
   "outputs": [
    {
     "name": "stdout",
     "output_type": "stream",
     "text": [
      "{'DS': 'DS1',\n",
      " 'compute_morph': ['resample_10', 'lbp', 'hbf5', 'wvlt', 'HOS'],\n",
      " 'do_preprocess': True,\n",
      " 'is_reduce': True,\n",
      " 'maxRR': True,\n",
      " 'norm_RR': True,\n",
      " 'use_RR': False,\n",
      " 'ws': [90, 90]}\n",
      "{'DS': 'DS2',\n",
      " 'compute_morph': ['resample_10', 'lbp', 'hbf5', 'wvlt', 'HOS'],\n",
      " 'do_preprocess': True,\n",
      " 'is_reduce': True,\n",
      " 'maxRR': True,\n",
      " 'norm_RR': True,\n",
      " 'use_RR': False,\n",
      " 'ws': [90, 90]}\n"
     ]
    }
   ],
   "source": [
    "pprint(load_trn_params)\n",
    "pprint(load_val_params)"
   ]
  },
  {
   "cell_type": "code",
   "execution_count": 5,
   "metadata": {},
   "outputs": [
    {
     "name": "stdout",
     "output_type": "stream",
     "text": [
      "Loading pickle: /home/congyu/dataset/ECG/mitdb/ml_learning/features/w_90_90_DS1_rm_bsline_maxRR_norm_RR_resample_10_lbp_hbf5_wvlt_HOS_reduced_MLII_V1.pkl...\n"
     ]
    }
   ],
   "source": [
    "tr_features, tr_labels, tr_patient_num_beats = load_mit_db(**load_trn_params)"
   ]
  },
  {
   "cell_type": "code",
   "execution_count": 6,
   "metadata": {},
   "outputs": [
    {
     "name": "stdout",
     "output_type": "stream",
     "text": [
      "(42617, 152)\n",
      "(42617,)\n"
     ]
    }
   ],
   "source": [
    "print(tr_features.shape)\n",
    "print(tr_labels.shape)"
   ]
  },
  {
   "cell_type": "code",
   "execution_count": 7,
   "metadata": {},
   "outputs": [
    {
     "name": "stdout",
     "output_type": "stream",
     "text": [
      "Loading pickle: /home/congyu/dataset/ECG/mitdb/ml_learning/features/w_90_90_DS2_rm_bsline_maxRR_norm_RR_resample_10_lbp_hbf5_wvlt_HOS_reduced_MLII_V1.pkl...\n"
     ]
    }
   ],
   "source": [
    "eval_features, eval_labels, eval_patient_num_beats = load_mit_db(**load_val_params)"
   ]
  },
  {
   "cell_type": "code",
   "execution_count": 8,
   "metadata": {},
   "outputs": [],
   "source": [
    "from sklearn.preprocessing import StandardScaler"
   ]
  },
  {
   "cell_type": "code",
   "execution_count": 9,
   "metadata": {},
   "outputs": [],
   "source": [
    "scaler = StandardScaler()\n",
    "scaler.fit(tr_features)\n",
    "tr_features_scaled = scaler.transform(tr_features)\n",
    "eval_features_scaled = scaler.transform(eval_features)"
   ]
  },
  {
   "cell_type": "code",
   "execution_count": 10,
   "metadata": {},
   "outputs": [],
   "source": [
    "import numpy as np"
   ]
  },
  {
   "cell_type": "code",
   "execution_count": 11,
   "metadata": {},
   "outputs": [],
   "source": [
    "from sklearn import svm\n",
    "import time"
   ]
  },
  {
   "cell_type": "code",
   "execution_count": 12,
   "metadata": {},
   "outputs": [],
   "source": [
    "model_kwargs = {}\n",
    "verbose = False\n",
    "\n",
    "C_value = model_kwargs.get(\"c_value\", 1)\n",
    "gamma_value = model_kwargs.get(\"gamma_value\", 0)\n",
    "multi_mode = model_kwargs.get(\"multi_model\", \"ovr\")\n",
    "\n",
    "# TODO load best params from cross validation!\n",
    "use_probability = False\n",
    "\n",
    "class_weights = {}\n",
    "for c in range(4):\n",
    "    class_weights.update({c: len(tr_labels) / float(np.count_nonzero(tr_labels == c))})\n",
    "\n",
    "# class_weight='balanced',\n",
    "if gamma_value != 0.0:  # NOTE 0.0 means 1/n_features default value\n",
    "    svm_model = svm.SVC(C=C_value, kernel='rbf', degree=3, gamma=gamma_value,\n",
    "                        coef0=0.0, shrinking=True, probability=use_probability, tol=0.001,\n",
    "                        cache_size=200, class_weight=class_weights, verbose=verbose,\n",
    "                        max_iter=-1, decision_function_shape=multi_mode, random_state=None)\n",
    "else:\n",
    "    svm_model = svm.SVC(C=C_value, kernel='rbf', degree=3, gamma='auto',\n",
    "                        coef0=0.0, shrinking=True, probability=use_probability, tol=0.001,\n",
    "                        cache_size=200, class_weight=class_weights, verbose=verbose,\n",
    "                        max_iter=-1, decision_function_shape=multi_mode, random_state=None)\n",
    "\n"
   ]
  },
  {
   "cell_type": "code",
   "execution_count": 13,
   "metadata": {},
   "outputs": [
    {
     "name": "stdout",
     "output_type": "stream",
     "text": [
      "\n",
      "working on train a model ...\n",
      "time for train a model: 40.93 sec\n",
      "\n"
     ]
    }
   ],
   "source": [
    "with PrintTime(\"train a model\"):\n",
    "    svm_model.fit(tr_features_scaled, tr_labels)"
   ]
  },
  {
   "cell_type": "code",
   "execution_count": 14,
   "metadata": {},
   "outputs": [],
   "source": [
    "y_pred = svm_model.predict(eval_features_scaled)"
   ]
  },
  {
   "cell_type": "code",
   "execution_count": 15,
   "metadata": {
    "scrolled": true
   },
   "outputs": [
    {
     "data": {
      "text/plain": [
       "(42285,)"
      ]
     },
     "execution_count": 15,
     "metadata": {},
     "output_type": "execute_result"
    }
   ],
   "source": [
    "y_pred.shape"
   ]
  },
  {
   "cell_type": "code",
   "execution_count": 16,
   "metadata": {},
   "outputs": [],
   "source": [
    "from collections import Counter"
   ]
  },
  {
   "cell_type": "code",
   "execution_count": 18,
   "metadata": {},
   "outputs": [],
   "source": [
    "c = Counter(y_pred[0:10000])"
   ]
  },
  {
   "cell_type": "code",
   "execution_count": 19,
   "metadata": {},
   "outputs": [
    {
     "name": "stdout",
     "output_type": "stream",
     "text": [
      "Counter({1: 8960, 3: 713, 2: 180, 0: 147})\n"
     ]
    }
   ],
   "source": [
    "print(c)"
   ]
  },
  {
   "cell_type": "code",
   "execution_count": null,
   "metadata": {},
   "outputs": [],
   "source": []
  },
  {
   "cell_type": "code",
   "execution_count": 21,
   "metadata": {},
   "outputs": [],
   "source": [
    "from sklearn.metrics import f1_score, classification_report\n",
    "from config import AAMI_CLASSES"
   ]
  },
  {
   "cell_type": "code",
   "execution_count": 22,
   "metadata": {},
   "outputs": [
    {
     "name": "stdout",
     "output_type": "stream",
     "text": [
      "marco f1 score 0.4332208101606776\n"
     ]
    }
   ],
   "source": [
    "print(\"marco f1 score\", f1_score(eval_labels, y_pred, average='macro'))"
   ]
  },
  {
   "cell_type": "code",
   "execution_count": 23,
   "metadata": {},
   "outputs": [
    {
     "name": "stdout",
     "output_type": "stream",
     "text": [
      "              precision    recall  f1-score   support\n",
      "\n",
      "           F       0.00      0.00      0.00       388\n",
      "           N       0.95      0.88      0.91     36667\n",
      "        SVEB       0.36      0.13      0.19      2014\n",
      "         VEB       0.47      0.96      0.63      3216\n",
      "\n",
      "    accuracy                           0.84     42285\n",
      "   macro avg       0.44      0.49      0.43     42285\n",
      "weighted avg       0.87      0.84      0.85     42285\n",
      "\n"
     ]
    }
   ],
   "source": [
    "print(classification_report(eval_labels, y_pred, target_names=AAMI_CLASSES))"
   ]
  },
  {
   "cell_type": "code",
   "execution_count": null,
   "metadata": {},
   "outputs": [],
   "source": []
  }
 ],
 "metadata": {
  "kernelspec": {
   "display_name": "congyuml",
   "language": "python",
   "name": "congyuml"
  },
  "language_info": {
   "codemirror_mode": {
    "name": "ipython",
    "version": 3
   },
   "file_extension": ".py",
   "mimetype": "text/x-python",
   "name": "python",
   "nbconvert_exporter": "python",
   "pygments_lexer": "ipython3",
   "version": "3.6.9"
  }
 },
 "nbformat": 4,
 "nbformat_minor": 4
}
