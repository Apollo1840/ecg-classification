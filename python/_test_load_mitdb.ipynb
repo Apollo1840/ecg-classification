{
 "cells": [
  {
   "cell_type": "code",
   "execution_count": 1,
   "metadata": {},
   "outputs": [],
   "source": [
    "from pprint import pprint"
   ]
  },
  {
   "cell_type": "code",
   "execution_count": 2,
   "metadata": {},
   "outputs": [],
   "source": [
    "from data_load import load_mit_db"
   ]
  },
  {
   "cell_type": "code",
   "execution_count": 9,
   "metadata": {},
   "outputs": [
    {
     "data": {
      "text/plain": [
       "[1, 0]"
      ]
     },
     "execution_count": 9,
     "metadata": {},
     "output_type": "execute_result"
    }
   ],
   "source": [
    "db_params = {\n",
    "    \"DS\": \"DS1\",\n",
    "    \"is_reduce\": False,\n",
    "    \"do_preprocess\":True,\n",
    "    \"ws\": [90, 90],\n",
    "}\n",
    "\n",
    "ml_features_params={\n",
    "    \"maxRR\": True,\n",
    "    \"use_RR\": True,\n",
    "    \"norm_RR\": False,\n",
    "    \"leads_flag\": [1, 0],\n",
    "    \"compute_morph\": ['OurMorph', 'wvlt', 'HOS'],\n",
    "    \"DS\": \"DS1\",  # for wvlt+pca\n",
    "    \"ws\": [90, 90],  # for mymorph\n",
    "}\n",
    "\n",
    "load_params = {}\n",
    "load_params.update(db_params)\n",
    "load_params.update(ml_features_params)\n",
    "load_params.pop(\"leads_flag\")"
   ]
  },
  {
   "cell_type": "code",
   "execution_count": 10,
   "metadata": {
    "scrolled": true
   },
   "outputs": [
    {
     "name": "stdout",
     "output_type": "stream",
     "text": [
      "{'DS': 'DS1',\n",
      " 'compute_morph': ['OurMorph', 'wvlt', 'HOS'],\n",
      " 'do_preprocess': True,\n",
      " 'is_reduce': False,\n",
      " 'maxRR': True,\n",
      " 'norm_RR': False,\n",
      " 'use_RR': True,\n",
      " 'ws': [90, 90]}\n"
     ]
    }
   ],
   "source": [
    "pprint(load_params)"
   ]
  },
  {
   "cell_type": "code",
   "execution_count": 11,
   "metadata": {},
   "outputs": [
    {
     "name": "stdout",
     "output_type": "stream",
     "text": [
      "load mitbih_db data from /home/congyu/dataset/ECG/mitdb/ml_learning/python_mit_rm_bsline_wL_90_wR_90_DS1.pkl\n",
      "getting rr features ...\n",
      "\n",
      "working on rr ...\n",
      "time for rr: 0.00 sec\n",
      "\n",
      "\n",
      "working on wvlt ...\n",
      "(51002, 27)\n",
      "time for wvlt: 18.77 sec\n",
      "\n",
      "\n",
      "working on HOS ...\n",
      "(51002, 37)\n",
      "time for HOS: 69.77 sec\n",
      "\n",
      "\n",
      "working on OurMorph ...\n",
      "(51002, 41)\n",
      "time for OurMorph: 4.19 sec\n",
      "\n",
      "write load_mit_db data to /home/congyu/dataset/ECG/mitdb/ml_learning/features/w_90_90_DS1_rm_bsline_maxRR_RR_OurMorph_wvlt_HOS_MLII.pkl\n"
     ]
    }
   ],
   "source": [
    "tr_features, tr_labels, tr_patient_num_beats = load_mit_db(**load_params)"
   ]
  },
  {
   "cell_type": "code",
   "execution_count": 12,
   "metadata": {
    "scrolled": true
   },
   "outputs": [
    {
     "name": "stdout",
     "output_type": "stream",
     "text": [
      "(51002, 41)\n",
      "(51002,)\n"
     ]
    }
   ],
   "source": [
    "print(tr_features.shape)\n",
    "print(tr_labels.shape)"
   ]
  },
  {
   "cell_type": "code",
   "execution_count": 7,
   "metadata": {},
   "outputs": [],
   "source": [
    "from collections import Counter"
   ]
  },
  {
   "cell_type": "code",
   "execution_count": 8,
   "metadata": {},
   "outputs": [],
   "source": [
    "c = Counter(tr_labels)"
   ]
  },
  {
   "cell_type": "code",
   "execution_count": 9,
   "metadata": {},
   "outputs": [
    {
     "data": {
      "text/plain": [
       "Counter({1: 37696, 2: 927, 3: 3589, 0: 405})"
      ]
     },
     "execution_count": 9,
     "metadata": {},
     "output_type": "execute_result"
    }
   ],
   "source": [
    "c"
   ]
  },
  {
   "cell_type": "code",
   "execution_count": null,
   "metadata": {},
   "outputs": [],
   "source": []
  }
 ],
 "metadata": {
  "kernelspec": {
   "display_name": "congyuml",
   "language": "python",
   "name": "congyuml"
  },
  "language_info": {
   "codemirror_mode": {
    "name": "ipython",
    "version": 3
   },
   "file_extension": ".py",
   "mimetype": "text/x-python",
   "name": "python",
   "nbconvert_exporter": "python",
   "pygments_lexer": "ipython3",
   "version": "3.6.9"
  }
 },
 "nbformat": 4,
 "nbformat_minor": 4
}
