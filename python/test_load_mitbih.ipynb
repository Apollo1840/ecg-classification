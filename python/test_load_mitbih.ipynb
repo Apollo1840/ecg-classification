{
 "cells": [
  {
   "cell_type": "code",
   "execution_count": null,
   "metadata": {},
   "outputs": [],
   "source": [
    "import sys\n",
    "import os\n",
    "from os.path import dirname as dr\n",
    "from os.path import abspath as ab\n",
    "\n",
    "sys.path.append(ab(os.getcwd()))\n",
    "sys.path.append(\"..\")"
   ]
  },
  {
   "cell_type": "code",
   "execution_count": null,
   "metadata": {},
   "outputs": [],
   "source": [
    "import sys\n",
    "sys.path.append(\".\")"
   ]
  },
  {
   "cell_type": "code",
   "execution_count": null,
   "metadata": {},
   "outputs": [],
   "source": [
    "sys.path.append(os.getcwd())"
   ]
  },
  {
   "cell_type": "code",
   "execution_count": null,
   "metadata": {},
   "outputs": [],
   "source": [
    "from os.path import dirname as dr\n",
    "sys.path.append(dr(os.getcwd()))"
   ]
  },
  {
   "cell_type": "code",
   "execution_count": null,
   "metadata": {
    "scrolled": true
   },
   "outputs": [],
   "source": [
    "dr(ab(os.getcwd()))"
   ]
  },
  {
   "cell_type": "code",
   "execution_count": null,
   "metadata": {},
   "outputs": [],
   "source": [
    "DATA_DIR = '/home/congyu/dataset/ECG/mitbihcsv/'\n",
    "MITBIH_CLASSES = ['N', 'L', 'R', 'e', 'j', 'A', 'a', 'J', 'S', 'V', 'E', 'F']  # , 'P', '/', 'f', 'u']\n",
    "AAMI = {\n",
    "    \"N\":  ['N', 'L', 'R'],\n",
    "    \"SVEB\": ['A', 'a', 'J', 'S', 'e', 'j'],\n",
    "    \"VEB\": ['V', 'E'],\n",
    "    \"F\": ['F'],\n",
    "    # \"Q\": ['P', '/', 'f', 'u'],\n",
    "}\n",
    "\n",
    "DS_bank = {\n",
    "    \"normal\": {\n",
    "        \"DS1\": [101, 106, 108, 109, 112, 114, 115, 116, 118, 119,\n",
    "                122, 124, 201, 203, 205, 207, 208, 209, 215, 220,\n",
    "                223, 230],\n",
    "        \"DS2\": [100, 103, 105, 111, 113, 117, 121, 123, 200, 202,\n",
    "                210, 212, 213, 214, 219, 221, 222, 228, 231, 232,\n",
    "                233, 234]\n",
    "    },\n",
    "    \"reduced\": {\n",
    "        \"DS1\": [101, 106, 108, 109, 112, 115, 118, 119, 201, 203,\n",
    "                205, 207, 208, 209, 215, 220, 223, 230],\n",
    "        \"DS2\": [105, 111, 113, 121, 200, 202, 210, 212, 213, 214,\n",
    "                219, 221, 222, 228, 231, 232, 233, 234]\n",
    "    }\n",
    "}\n",
    "\n",
    "\n",
    "AAMI_CLASSES = sorted(AAMI.keys())"
   ]
  },
  {
   "cell_type": "code",
   "execution_count": null,
   "metadata": {},
   "outputs": [],
   "source": [
    "import os"
   ]
  },
  {
   "cell_type": "code",
   "execution_count": null,
   "metadata": {},
   "outputs": [],
   "source": [
    "def mitbih2aami(label):\n",
    "    for aami_label, mitbih_label in AAMI.items():\n",
    "        if label in mitbih_label:\n",
    "            return aami_label\n",
    "    return None\n"
   ]
  },
  {
   "cell_type": "code",
   "execution_count": null,
   "metadata": {},
   "outputs": [],
   "source": [
    "def load_ecg_from_csv(filename):\n",
    "    \"\"\"\n",
    "\n",
    "    :param filename: str\n",
    "    :return:\n",
    "    \"\"\"\n",
    "\n",
    "    with open(filename, 'r') as f:\n",
    "        reader = csv.reader(f, delimiter=',')\n",
    "\n",
    "        next(reader)  # skip first line!\n",
    "        MLII_index = 1\n",
    "        V1_index = 2\n",
    "\n",
    "        ptid = os.path.split(filename)[-1][0:3]\n",
    "        if int(ptid) == 114:\n",
    "            MLII_index = 2\n",
    "            V1_index = 1\n",
    "\n",
    "        MLII = []\n",
    "        V1 = []\n",
    "        for row in reader:\n",
    "            MLII.append((int(row[MLII_index])))\n",
    "            V1.append((int(row[V1_index])))\n",
    "\n",
    "    return MLII, V1\n"
   ]
  },
  {
   "cell_type": "code",
   "execution_count": null,
   "metadata": {},
   "outputs": [],
   "source": [
    "DATA_DIR = '/home/congyu/dataset/ECG/mitbihcsv/'"
   ]
  },
  {
   "cell_type": "code",
   "execution_count": null,
   "metadata": {},
   "outputs": [],
   "source": [
    "def parse_data_dir(data_dir, record_ids):\n",
    "    \"\"\"\n",
    "    return one is a list of \".csv\" file, one is a list of \".txt\" file\n",
    "    under the data_dir, whose name has ids in ds\n",
    "\n",
    "    :param data_dir:\n",
    "    :param record_ids: List[int]\n",
    "    :return: Tuple(List[str]), two list,\n",
    "       one is a list of \".csv\" file, one is a list of \".txt\" file\n",
    "    \"\"\"\n",
    "    # Read files: signal (.csv )  annotations (.txt)\n",
    "    fRecords = list()\n",
    "    fAnnotations = list()\n",
    "\n",
    "    lst = os.listdir(data_dir)\n",
    "    lst.sort()\n",
    "    for filename in lst:\n",
    "        if filename.endswith(\".csv\"):\n",
    "            if int(filename[0:3]) in record_ids:\n",
    "                fRecords.append(filename)\n",
    "        elif filename.endswith(\".txt\"):\n",
    "            if int(filename[0:3]) in record_ids:\n",
    "                fAnnotations.append(filename)\n",
    "\n",
    "    return fRecords, fAnnotations\n"
   ]
  },
  {
   "cell_type": "code",
   "execution_count": null,
   "metadata": {},
   "outputs": [],
   "source": [
    "DS1 = [101, 106, 108, 109, 112, 115, 118, 119, 201, 203, 205, 207, 208, 209, 215, 220, 223, 230]"
   ]
  },
  {
   "cell_type": "code",
   "execution_count": null,
   "metadata": {
    "scrolled": true
   },
   "outputs": [],
   "source": [
    "fRecords, fAnnotations = parse_data_dir(DATA_DIR, DS1)"
   ]
  },
  {
   "cell_type": "code",
   "execution_count": null,
   "metadata": {},
   "outputs": [],
   "source": [
    "filename = os.path.join(DATA_DIR, fRecords[0])"
   ]
  },
  {
   "cell_type": "code",
   "execution_count": null,
   "metadata": {},
   "outputs": [],
   "source": [
    "import csv"
   ]
  },
  {
   "cell_type": "code",
   "execution_count": null,
   "metadata": {},
   "outputs": [],
   "source": [
    "mlii, v1 = load_ecg_from_csv(filename)"
   ]
  },
  {
   "cell_type": "code",
   "execution_count": null,
   "metadata": {},
   "outputs": [],
   "source": [
    "def load_ann_from_txt(filename):\n",
    "    \"\"\"\n",
    "\n",
    "    :param filename: str\n",
    "    :return:\n",
    "    \"\"\"\n",
    "\n",
    "    with open(filename, \"r\") as f:\n",
    "        next(f)  # skip first line!\n",
    "        annotations = []\n",
    "        for line in f:\n",
    "            annotations.append(line)\n",
    "    return annotations"
   ]
  },
  {
   "cell_type": "code",
   "execution_count": null,
   "metadata": {},
   "outputs": [],
   "source": [
    "filename = os.path.join(DATA_DIR, fAnnotations[0])\n",
    "annotations = load_ann_from_txt(filename)"
   ]
  },
  {
   "cell_type": "code",
   "execution_count": null,
   "metadata": {},
   "outputs": [],
   "source": [
    "def parse_annotations(annotations, MLII, ws=(90, 90), size_rr_max=20):\n",
    "    \"\"\"\n",
    "\n",
    "    :param annotations:\n",
    "    :param MLII:\n",
    "    :param ws:\n",
    "    :param size_rr_max:\n",
    "    :return:\n",
    "        beat_indices, List[Tuple], Tuple is (beat_start_index, r_peak_index, beat_end_index).\n",
    "        labels, List[str], str is the lable of the beat.\n",
    "    \"\"\"\n",
    "\n",
    "    beat_indices = []\n",
    "    labels = []\n",
    "    r_peaks_original = []\n",
    "    is_r_valid = []\n",
    "\n",
    "    for a in annotations:\n",
    "        _, r_pos, beat_label = a.split()[:3]\n",
    "\n",
    "        r_pos = int(r_pos)\n",
    "        r_peaks_original.append(r_pos)\n",
    "\n",
    "        beat_index, label = parse_beats(r_pos, beat_label, MLII, ws, size_rr_max)\n",
    "        if label:\n",
    "            labels.append(label)\n",
    "            beat_indices.append(beat_index)\n",
    "            is_r_valid.append(1)\n",
    "        else:\n",
    "            is_r_valid.append(0)\n",
    "\n",
    "    return beat_indices, labels, r_peaks_original, is_r_valid"
   ]
  },
  {
   "cell_type": "code",
   "execution_count": null,
   "metadata": {},
   "outputs": [],
   "source": [
    "def parse_beats(r_pos, beat_type, MLII, ws, size_RR_max=20):\n",
    "    \"\"\"\n",
    "\n",
    "    :param r_pos: int, r-peak index\n",
    "    :param beat_type: str, mitbih label.\n",
    "    :param MLII: List[float], ECG in lead MLII\n",
    "    :param ws: Tuple[int], (winL, winR), window size\n",
    "    :param size_RR_max: int, related to sample rate\n",
    "    :return: Tuple, str, str is AAMI label.\n",
    "    \"\"\"\n",
    "\n",
    "    winL, winR = ws\n",
    "    beatL = None\n",
    "    beatR = None\n",
    "    class_AAMI = None\n",
    "\n",
    "    r_pos = relocate_r_peak(r_pos, MLII, size_RR_max)\n",
    "\n",
    "    if winL < r_pos < (len(MLII) - winR) and beat_type in MITBIH_CLASSES:\n",
    "        beatL = r_pos - winL\n",
    "        beatR = r_pos + winR\n",
    "        class_AAMI = mitbih2aami(beat_type)\n",
    "\n",
    "    return (beatL, r_pos, beatR), class_AAMI\n"
   ]
  },
  {
   "cell_type": "code",
   "execution_count": null,
   "metadata": {},
   "outputs": [],
   "source": [
    "def relocate_r_peak(r_pos, ref_signal, rr_max):\n",
    "    \"\"\"\n",
    "\n",
    "    :param r_pos: int, r_peak index\n",
    "    :param ref_signal: List[float], reference signal\n",
    "    :param rr_max: int,\n",
    "    :return:\n",
    "    \"\"\"\n",
    "\n",
    "    # relocate r_peak by searching maximum in ref_signal\n",
    "    # r_pos between [size_RR_max, len(MLII) - size_RR_max]\n",
    "    if rr_max < r_pos < len(ref_signal) - rr_max:\n",
    "        index, value = max(enumerate(ref_signal[r_pos - rr_max: r_pos + rr_max]), key=operator.itemgetter(1))\n",
    "        return (r_pos - rr_max) + index\n",
    "    return r_pos"
   ]
  },
  {
   "cell_type": "code",
   "execution_count": null,
   "metadata": {},
   "outputs": [],
   "source": [
    "import operator"
   ]
  },
  {
   "cell_type": "code",
   "execution_count": null,
   "metadata": {},
   "outputs": [],
   "source": [
    "beat_indices, labels, _, _ = parse_annotations(annotations, mlii)"
   ]
  },
  {
   "cell_type": "code",
   "execution_count": null,
   "metadata": {},
   "outputs": [],
   "source": [
    "import sys "
   ]
  },
  {
   "cell_type": "code",
   "execution_count": null,
   "metadata": {},
   "outputs": [],
   "source": [
    "from load_MITBIH import load_signal"
   ]
  },
  {
   "cell_type": "code",
   "execution_count": null,
   "metadata": {
    "scrolled": true
   },
   "outputs": [],
   "source": [
    "my_db = load_signals(DS1, (90, 90), False)"
   ]
  },
  {
   "cell_type": "code",
   "execution_count": null,
   "metadata": {},
   "outputs": [],
   "source": []
  },
  {
   "cell_type": "code",
   "execution_count": null,
   "metadata": {},
   "outputs": [],
   "source": []
  },
  {
   "cell_type": "code",
   "execution_count": null,
   "metadata": {},
   "outputs": [],
   "source": []
  },
  {
   "cell_type": "code",
   "execution_count": null,
   "metadata": {},
   "outputs": [],
   "source": [
    "from mit_db import mit_db, RR_intervals"
   ]
  },
  {
   "cell_type": "code",
   "execution_count": null,
   "metadata": {},
   "outputs": [],
   "source": [
    "DS1 = [101, 106, 108, 109, 112, 115, 118, 119, 201, 203, 205, 207, 208, 209, 215, 220, 223, 230]"
   ]
  },
  {
   "cell_type": "code",
   "execution_count": null,
   "metadata": {},
   "outputs": [],
   "source": [
    "RR = [RR_intervals() for i in range(len(DS1))]"
   ]
  },
  {
   "cell_type": "code",
   "execution_count": null,
   "metadata": {},
   "outputs": [],
   "source": [
    "for p in range(len(my_db.beat)):\n",
    "    if maxRR:\n",
    "        RR[p] = compute_RR_intervals(my_db.R_pos[p])\n",
    "    else:\n",
    "        RR[p] = compute_RR_intervals(my_db.orig_R_pos[p])\n",
    "\n",
    "    RR[p].pre_R = RR[p].pre_R[(my_db.valid_R[p] == 1)]\n",
    "    RR[p].post_R = RR[p].post_R[(my_db.valid_R[p] == 1)]\n",
    "    RR[p].local_R = RR[p].local_R[(my_db.valid_R[p] == 1)]\n",
    "    RR[p].global_R = RR[p].global_R[(my_db.valid_R[p] == 1)]\n"
   ]
  },
  {
   "cell_type": "code",
   "execution_count": null,
   "metadata": {},
   "outputs": [],
   "source": [
    "import numpy as np"
   ]
  },
  {
   "cell_type": "code",
   "execution_count": null,
   "metadata": {},
   "outputs": [],
   "source": [
    "f_RR = np.empty((0, 4))\n",
    "for p in range(10):\n",
    "    row = np.column_stack(([1, 2],[11, 22],[111,222],[1111,2222]))\n",
    "    f_RR = np.vstack((f_RR, row))"
   ]
  },
  {
   "cell_type": "code",
   "execution_count": null,
   "metadata": {},
   "outputs": [],
   "source": [
    "f_RR"
   ]
  },
  {
   "cell_type": "code",
   "execution_count": null,
   "metadata": {},
   "outputs": [],
   "source": []
  },
  {
   "cell_type": "code",
   "execution_count": null,
   "metadata": {},
   "outputs": [],
   "source": []
  },
  {
   "cell_type": "code",
   "execution_count": 1,
   "metadata": {},
   "outputs": [],
   "source": [
    "from load_MITBIH import *\n",
    "from constant import *"
   ]
  },
  {
   "cell_type": "code",
   "execution_count": 2,
   "metadata": {},
   "outputs": [
    {
     "name": "stderr",
     "output_type": "stream",
     "text": [
      "100%|██████████| 1/1 [00:10<00:00, 10.97s/it]\n"
     ]
    }
   ],
   "source": [
    "my_db = load_signals(record_ids=DS_bank[\"reduced\"][\"DS1\"][:1], ws=(90, 90), do_preprocess=True)"
   ]
  },
  {
   "cell_type": "code",
   "execution_count": 3,
   "metadata": {},
   "outputs": [],
   "source": [
    "import matplotlib.pyplot as plt"
   ]
  },
  {
   "cell_type": "code",
   "execution_count": 6,
   "metadata": {},
   "outputs": [
    {
     "data": {
      "image/png": "[encoded data removed]",
      "text/plain": [
       "<Figure size 432x288 with 1 Axes>"
      ]
     },
     "metadata": {
      "needs_background": "light"
     },
     "output_type": "display_data"
    }
   ],
   "source": [
    "for i in range(20):\n",
    "    plt.plot(my_db.beat[0][i][0])"
   ]
  },
  {
   "cell_type": "code",
   "execution_count": null,
   "metadata": {},
   "outputs": [],
   "source": []
  }
 ],
 "metadata": {
  "kernelspec": {
   "display_name": "congyuml",
   "language": "python",
   "name": "congyuml"
  },
  "language_info": {
   "codemirror_mode": {
    "name": "ipython",
    "version": 3
   },
   "file_extension": ".py",
   "mimetype": "text/x-python",
   "name": "python",
   "nbconvert_exporter": "python",
   "pygments_lexer": "ipython3",
   "version": "3.6.9"
  }
 },
 "nbformat": 4,
 "nbformat_minor": 2
}
