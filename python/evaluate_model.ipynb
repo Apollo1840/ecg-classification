{
 "cells": [
  {
   "cell_type": "code",
   "execution_count": 1,
   "metadata": {},
   "outputs": [],
   "source": [
    "import joblib\n",
    "from sklearn.metrics import f1_score, classification_report"
   ]
  },
  {
   "cell_type": "code",
   "execution_count": 2,
   "metadata": {},
   "outputs": [],
   "source": [
    "from train_svm import load_ml_data\n",
    "from util_path_manager import path_to_model \n",
    "from config import AAMI_CLASSES"
   ]
  },
  {
   "cell_type": "markdown",
   "metadata": {},
   "source": [
    "# Evaluate beat_cv"
   ]
  },
  {
   "cell_type": "code",
   "execution_count": 4,
   "metadata": {},
   "outputs": [
    {
     "name": "stdout",
     "output_type": "stream",
     "text": [
      "load load_mit_db data from /home/congyu/dataset/ECG/mitdb/ml_learning/features/w_90_90_DS12_rm_bsline_maxRR_RR_norm_RR_wvlt_HOS_u-lbp_OurMorph_MLII.pkl\n",
      "normalizing the data ... \n"
     ]
    }
   ],
   "source": [
    "# load data\n",
    "ws = [90, 90]\n",
    "winL, winR = ws\n",
    "\n",
    "do_preprocess=True\n",
    "reduced_DS=False\n",
    "maxRR=True\n",
    "use_RR=True\n",
    "norm_RR=True\n",
    "compute_morph=['wvlt', 'HOS', 'u-lbp', 'OurMorph']\n",
    "\n",
    "_, _, eval_features, y_true = load_ml_data(\n",
    "    (winL, winR),\n",
    "    do_preprocess,\n",
    "    reduced_DS,\n",
    "    maxRR,\n",
    "    use_RR,\n",
    "    norm_RR,\n",
    "    compute_morph,\n",
    "    cross_patient=False,\n",
    "    verbose=True)\n",
    "\n",
    "# load model\n",
    "multi_mode='ovo'\n",
    "use_weight_class=True\n",
    "oversamp_method=''\n",
    "cross_patient=False\n",
    "c_value=1\n",
    "gamma_value=0.0\n",
    "pca_k=0\n",
    "leads_flag=[1, 0]\n",
    "feature_selection=\"\"\n",
    "\n",
    "print(\"model_path: \\n\", model_path)\n",
    "model_path = path_to_model(**locals())\n",
    "\n",
    "with open(model_path, \"rb\") as f:\n",
    "    svm_model = joblib.load(f)\n"
   ]
  },
  {
   "cell_type": "code",
   "execution_count": 5,
   "metadata": {},
   "outputs": [],
   "source": [
    "y_pred = svm_model.predict(eval_features)"
   ]
  },
  {
   "cell_type": "code",
   "execution_count": 6,
   "metadata": {},
   "outputs": [
    {
     "name": "stdout",
     "output_type": "stream",
     "text": [
      "marco f1 score 0.9142533421932455\n"
     ]
    }
   ],
   "source": [
    "print(\"macro f1 score\", f1_score(y_true, y_pred, average='macro'))\n",
    "print(\"micro f1 score\", f1_score(y_true, y_pred, average='micro'))"
   ]
  },
  {
   "cell_type": "code",
   "execution_count": 7,
   "metadata": {},
   "outputs": [
    {
     "name": "stdout",
     "output_type": "stream",
     "text": [
      "              precision    recall  f1-score   support\n",
      "\n",
      "           F       0.87      0.77      0.82       176\n",
      "           N       0.99      1.00      0.99     18019\n",
      "        SVEB       0.89      0.85      0.87       577\n",
      "         VEB       0.98      0.97      0.97      1367\n",
      "\n",
      "    accuracy                           0.99     20139\n",
      "   macro avg       0.93      0.90      0.91     20139\n",
      "weighted avg       0.99      0.99      0.99     20139\n",
      "\n"
     ]
    }
   ],
   "source": [
    "print(classification_report(y_true, y_pred, target_names=AAMI_CLASSES))"
   ]
  },
  {
   "cell_type": "markdown",
   "metadata": {},
   "source": [
    "# evaluate pat_cv"
   ]
  },
  {
   "cell_type": "code",
   "execution_count": 19,
   "metadata": {},
   "outputs": [
    {
     "name": "stdout",
     "output_type": "stream",
     "text": [
      "load load_mit_db data from /home/congyu/dataset/ECG/mitdb/ml_learning/features/w_90_90_DS1_rm_bsline_maxRR_RR_norm_RR_wvlt_HOS_u-lbp_OurMorph_MLII.pkl\n",
      "load load_mit_db data from /home/congyu/dataset/ECG/mitdb/ml_learning/features/w_90_90_DS2_rm_bsline_maxRR_RR_norm_RR_wvlt_HOS_u-lbp_OurMorph_MLII.pkl\n",
      "normalizing the data ... \n",
      "model_path: \n",
      " /home/congyu/dataset/ECG/mitdb/ml_learning/svm_models/ovo_rbf_MLII_rm_bsln_maxRR_RR_norm_RR_wvlt_HOS_u-lbp_OurMorph_weighted_C_10_crossp.joblib.pkl\n"
     ]
    }
   ],
   "source": [
    "# load data\n",
    "ws = [90, 90]\n",
    "winL, winR = ws\n",
    "\n",
    "do_preprocess=True\n",
    "reduced_DS=False\n",
    "maxRR=True\n",
    "use_RR=True\n",
    "norm_RR=True\n",
    "compute_morph=['wvlt', 'HOS', 'u-lbp', 'OurMorph']\n",
    "\n",
    "_, _, eval_features, y_true = load_ml_data(\n",
    "    (winL, winR),\n",
    "    do_preprocess,\n",
    "    reduced_DS,\n",
    "    maxRR,\n",
    "    use_RR,\n",
    "    norm_RR,\n",
    "    compute_morph,\n",
    "    cross_patient=True,\n",
    "    verbose=True)\n",
    "\n",
    "# load model\n",
    "multi_mode='ovo'\n",
    "use_weight_class=True\n",
    "oversamp_method=''\n",
    "cross_patient=True\n",
    "c_value=10\n",
    "gamma_value=0.0\n",
    "pca_k=0\n",
    "leads_flag=[1, 0]\n",
    "feature_selection=\"\"\n",
    "\n",
    "model_path = path_to_model(**locals())\n",
    "print(\"model_path: \\n\", model_path)\n",
    "\n",
    "with open(model_path, \"rb\") as f:\n",
    "    svm_model = joblib.load(f)"
   ]
  },
  {
   "cell_type": "code",
   "execution_count": 20,
   "metadata": {},
   "outputs": [],
   "source": [
    "y_pred = svm_model.predict(eval_features)"
   ]
  },
  {
   "cell_type": "code",
   "execution_count": 21,
   "metadata": {},
   "outputs": [
    {
     "name": "stdout",
     "output_type": "stream",
     "text": [
      "macro f1 score 0.5087989893071435\n",
      "micro f1 score 0.920448370932362\n"
     ]
    }
   ],
   "source": [
    "print(\"macro f1 score\", f1_score(y_true, y_pred, average='macro'))\n",
    "print(\"micro f1 score\", f1_score(y_true, y_pred, average='micro'))"
   ]
  },
  {
   "cell_type": "code",
   "execution_count": 22,
   "metadata": {},
   "outputs": [
    {
     "name": "stdout",
     "output_type": "stream",
     "text": [
      "              precision    recall  f1-score   support\n",
      "\n",
      "           F       0.01      0.01      0.01       388\n",
      "           N       0.95      0.96      0.96     44033\n",
      "        SVEB       0.36      0.15      0.21      2050\n",
      "         VEB       0.79      0.93      0.85      3220\n",
      "\n",
      "    accuracy                           0.92     49691\n",
      "   macro avg       0.53      0.51      0.51     49691\n",
      "weighted avg       0.91      0.92      0.91     49691\n",
      "\n"
     ]
    }
   ],
   "source": [
    "print(classification_report(y_true, y_pred, target_names=AAMI_CLASSES))"
   ]
  },
  {
   "cell_type": "code",
   "execution_count": null,
   "metadata": {},
   "outputs": [],
   "source": []
  }
 ],
 "metadata": {
  "kernelspec": {
   "display_name": "congyuml",
   "language": "python",
   "name": "congyuml"
  },
  "language_info": {
   "codemirror_mode": {
    "name": "ipython",
    "version": 3
   },
   "file_extension": ".py",
   "mimetype": "text/x-python",
   "name": "python",
   "nbconvert_exporter": "python",
   "pygments_lexer": "ipython3",
   "version": "3.6.9"
  }
 },
 "nbformat": 4,
 "nbformat_minor": 4
}
