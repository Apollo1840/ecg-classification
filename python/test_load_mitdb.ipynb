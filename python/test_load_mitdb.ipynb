{
 "cells": [
  {
   "cell_type": "code",
   "execution_count": 1,
   "metadata": {},
   "outputs": [],
   "source": [
    "from pprint import pprint"
   ]
  },
  {
   "cell_type": "code",
   "execution_count": 2,
   "metadata": {},
   "outputs": [],
   "source": [
    "from data_load import load_mit_db"
   ]
  },
  {
   "cell_type": "code",
   "execution_count": 3,
   "metadata": {},
   "outputs": [
    {
     "data": {
      "text/plain": [
       "[0, 1]"
      ]
     },
     "execution_count": 3,
     "metadata": {},
     "output_type": "execute_result"
    }
   ],
   "source": [
    "db_params = {\n",
    "    \"DS\": \"DS1\",\n",
    "    \"is_reduce\": True,\n",
    "    \"do_preprocess\":True,\n",
    "    \"ws\": [90, 90],\n",
    "}\n",
    "\n",
    "ml_features_params={\n",
    "    \"maxRR\": True,\n",
    "    \"use_RR\": True,\n",
    "    \"norm_RR\": True,\n",
    "    \"leads_flag\": [0, 1],\n",
    "    \"compute_morph\": ['resample_10', 'lbp', 'hbf5', 'wvlt', 'HOS'],\n",
    "    \"DS\": \"DS1\",  # for wvlt+pca\n",
    "    \"ws\": [90, 90],  # for mymorph\n",
    "}\n",
    "\n",
    "load_params = {}\n",
    "load_params.update(db_params)\n",
    "load_params.update(ml_features_params)\n",
    "load_params.pop(\"leads_flag\")"
   ]
  },
  {
   "cell_type": "code",
   "execution_count": 4,
   "metadata": {
    "scrolled": true
   },
   "outputs": [
    {
     "name": "stdout",
     "output_type": "stream",
     "text": [
      "{'DS': 'DS1',\n",
      " 'compute_morph': ['resample_10', 'lbp', 'hbf5', 'wvlt', 'HOS'],\n",
      " 'do_preprocess': True,\n",
      " 'is_reduce': True,\n",
      " 'maxRR': True,\n",
      " 'norm_RR': True,\n",
      " 'use_RR': True,\n",
      " 'ws': [90, 90]}\n"
     ]
    }
   ],
   "source": [
    "pprint(load_params)"
   ]
  },
  {
   "cell_type": "code",
   "execution_count": 5,
   "metadata": {},
   "outputs": [
    {
     "name": "stdout",
     "output_type": "stream",
     "text": [
      "Loading pickle: /home/congyu/dataset/ECG/mitdb/ml_learning/features/w_90_90_DS1_rm_bsline_maxRR_RR_norm_RR_resample_10_lbp_hbf5_wvlt_HOS_reduced_MLII_V1.pkl...\n"
     ]
    }
   ],
   "source": [
    "tr_features, tr_labels, tr_patient_num_beats = load_mit_db(**load_params)"
   ]
  },
  {
   "cell_type": "code",
   "execution_count": 6,
   "metadata": {
    "scrolled": true
   },
   "outputs": [
    {
     "name": "stdout",
     "output_type": "stream",
     "text": [
      "(42617, 156)\n",
      "(42617,)\n"
     ]
    }
   ],
   "source": [
    "print(tr_features.shape)\n",
    "print(tr_labels.shape)"
   ]
  },
  {
   "cell_type": "code",
   "execution_count": 7,
   "metadata": {},
   "outputs": [],
   "source": [
    "from collections import Counter"
   ]
  },
  {
   "cell_type": "code",
   "execution_count": 8,
   "metadata": {},
   "outputs": [],
   "source": [
    "c = Counter(tr_labels)"
   ]
  },
  {
   "cell_type": "code",
   "execution_count": 9,
   "metadata": {},
   "outputs": [
    {
     "data": {
      "text/plain": [
       "Counter({1: 37696, 2: 927, 3: 3589, 0: 405})"
      ]
     },
     "execution_count": 9,
     "metadata": {},
     "output_type": "execute_result"
    }
   ],
   "source": [
    "c"
   ]
  },
  {
   "cell_type": "code",
   "execution_count": null,
   "metadata": {},
   "outputs": [],
   "source": []
  }
 ],
 "metadata": {
  "kernelspec": {
   "display_name": "congyuml",
   "language": "python",
   "name": "congyuml"
  },
  "language_info": {
   "codemirror_mode": {
    "name": "ipython",
    "version": 3
   },
   "file_extension": ".py",
   "mimetype": "text/x-python",
   "name": "python",
   "nbconvert_exporter": "python",
   "pygments_lexer": "ipython3",
   "version": "3.6.9"
  }
 },
 "nbformat": 4,
 "nbformat_minor": 4
}
