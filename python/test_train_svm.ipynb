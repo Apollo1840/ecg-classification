{
 "cells": [
  {
   "cell_type": "code",
   "execution_count": 4,
   "metadata": {},
   "outputs": [],
   "source": [
    "from train_svm import train_and_evaluation\n",
    "from config import *"
   ]
  },
  {
   "cell_type": "code",
   "execution_count": 2,
   "metadata": {},
   "outputs": [
    {
     "name": "stdout",
     "output_type": "stream",
     "text": [
      "Runing trival_main !\n",
      "loading the data ...\n",
      "Loading pickle: /home/congyu/dataset/ECG/mitdb/ml_learning/features/w_90_90_DS1_rm_bsline_maxRR_norm_RR_resample_10_lbp_hbf5_wvlt_HOS_reduced_MLII_V1.pkl...\n",
      "Loading pickle: /home/congyu/dataset/ECG/mitdb/ml_learning/features/w_90_90_DS2_rm_bsline_maxRR_norm_RR_resample_10_lbp_hbf5_wvlt_HOS_reduced_MLII_V1.pkl...\n",
      "normalizing the data ... \n",
      "Ready to train the model on MIT-BIH DS1: ...\n",
      "Testing model on MIT-BIH DS2: /home/congyu/dataset/ECG/mitdb/ml_learning/svm_models/ovo_rbf_exp_2_MLII_rm_bsln_maxRR_norm_RR_resample_10_lbp_hbf5_wvlt_HOS_C_0.001.joblib.pkl...\n",
      "Evaluation on DS2 ...\n"
     ]
    },
    {
     "name": "stderr",
     "output_type": "stream",
     "text": [
      "/home/congyu/congyu_program/pythons/forks/ecg-classification/python/model_evaluation.py:93: RuntimeWarning: invalid value encountered in double_scalars\n",
      "  pf_ms.Precision[i] = TP / (TP + FP)\n"
     ]
    },
    {
     "name": "stdout",
     "output_type": "stream",
     "text": [
      "{ 'Acc': array([0.00917583, 0.13286035, 0.95237082, 0.92394466]),\n",
      "  'F_measure': array([0.0181848, 0.       , 0.       , 0.       ]),\n",
      "  'Ij': nan,\n",
      "  'Ijk': nan,\n",
      "  'Overall_Acc': 0.009175830672815419,\n",
      "  'Precision': array([0.00917583,        nan,        nan,        nan]),\n",
      "  'Recall': array([1., 0., 0., 0.]),\n",
      "  'Specificity': array([0., 1., 1., 1.]),\n",
      "  'confusion_matrix': array([[  388.,     0.,     0.,     0.],\n",
      "       [36667.,     0.,     0.,     0.],\n",
      "       [ 2014.,     0.,     0.,     0.],\n",
      "       [ 3216.,     0.,     0.,     0.]]),\n",
      "  'gmean_p': 0.0,\n",
      "  'gmean_se': 0.0,\n",
      "  'kappa': 0.0,\n",
      "  'n_classes': 4}\n",
      "Results writed at /home/congyu/ECG/model_train_log/ecg_classification/results/ovo_exp_2_MLII_rm_bsln_maxRR_norm_RR_resample_10_lbp_hbf5_wvlt_HOS/C_0.001\n",
      "congrats! evaluation complete! \n"
     ]
    }
   ],
   "source": [
    "svm_model, eval_features, eval_labels = train_and_evaluation(\n",
    "    multi_mode=\"ovo\", \n",
    "    winL=90,\n",
    "    winR=90,\n",
    "    do_preprocess=True,\n",
    "    maxRR=True,\n",
    "    use_RR=False,\n",
    "    norm_RR=True,\n",
    "    compute_morph=['resample_10', 'lbp', 'hbf5', 'wvlt', 'HOS'],\n",
    "    reduced_DS=True,\n",
    "    leads_flag=[1, 0],\n",
    ")"
   ]
  },
  {
   "cell_type": "code",
   "execution_count": 5,
   "metadata": {},
   "outputs": [
    {
     "name": "stdout",
     "output_type": "stream",
     "text": [
      "['F', 'N', 'SVEB', 'VEB']\n"
     ]
    }
   ],
   "source": [
    "print(AAMI_CLASSES)"
   ]
  },
  {
   "cell_type": "code",
   "execution_count": null,
   "metadata": {},
   "outputs": [],
   "source": []
  },
  {
   "cell_type": "code",
   "execution_count": 8,
   "metadata": {},
   "outputs": [],
   "source": [
    "from sklearn.metrics import f1_score, classification_report\n",
    "from config import AAMI_CLASSES"
   ]
  },
  {
   "cell_type": "code",
   "execution_count": 11,
   "metadata": {},
   "outputs": [
    {
     "name": "stdout",
     "output_type": "stream",
     "text": [
      "marco f1 score 0.32160670778151906\n",
      "              precision    recall  f1-score   support\n",
      "\n",
      "           F       0.00      0.00      0.00       388\n",
      "           N       0.93      0.68      0.78     36667\n",
      "        SVEB       0.23      0.09      0.13      2014\n",
      "         VEB       0.23      0.97      0.37      3216\n",
      "\n",
      "    accuracy                           0.66     42285\n",
      "   macro avg       0.35      0.43      0.32     42285\n",
      "weighted avg       0.84      0.66      0.71     42285\n",
      "\n"
     ]
    }
   ],
   "source": [
    "y_pred = svm_model.predict(eval_features)\n",
    "print(\"marco f1 score\", f1_score(eval_labels, y_pred, average='macro'))\n",
    "print(classification_report(eval_labels, y_pred, target_names=AAMI_CLASSES))"
   ]
  },
  {
   "cell_type": "code",
   "execution_count": null,
   "metadata": {},
   "outputs": [],
   "source": []
  }
 ],
 "metadata": {
  "kernelspec": {
   "display_name": "congyuml",
   "language": "python",
   "name": "congyuml"
  },
  "language_info": {
   "codemirror_mode": {
    "name": "ipython",
    "version": 3
   },
   "file_extension": ".py",
   "mimetype": "text/x-python",
   "name": "python",
   "nbconvert_exporter": "python",
   "pygments_lexer": "ipython3",
   "version": "3.6.9"
  }
 },
 "nbformat": 4,
 "nbformat_minor": 2
}
