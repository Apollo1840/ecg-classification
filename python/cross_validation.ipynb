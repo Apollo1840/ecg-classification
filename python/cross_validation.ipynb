{
 "cells": [
  {
   "cell_type": "code",
   "execution_count": 22,
   "metadata": {},
   "outputs": [],
   "source": [
    "def cross_val_index_by_patient(patient_num_beats):\n",
    "    k = len(patient_num_beats)\n",
    "\n",
    "    base = 0\n",
    "    indices = []\n",
    "    for kk in range(k):\n",
    "        indices.append([base, base + patient_num_beats[kk]])\n",
    "        base = base + patient_num_beats[kk] + 1\n",
    "    return indices"
   ]
  },
  {
   "cell_type": "code",
   "execution_count": 23,
   "metadata": {},
   "outputs": [
    {
     "data": {
      "text/plain": [
       "[[0, 1], [2, 4], [5, 8]]"
      ]
     },
     "execution_count": 23,
     "metadata": {},
     "output_type": "execute_result"
    }
   ],
   "source": [
    "cross_val_index_by_patient([1, 2, 3])"
   ]
  },
  {
   "cell_type": "code",
   "execution_count": 3,
   "metadata": {},
   "outputs": [],
   "source": [
    "import numpy as np"
   ]
  },
  {
   "cell_type": "code",
   "execution_count": 6,
   "metadata": {},
   "outputs": [
    {
     "data": {
      "text/plain": [
       "array([False,  True, False, False,  True])"
      ]
     },
     "execution_count": 6,
     "metadata": {},
     "output_type": "execute_result"
    }
   ],
   "source": [
    "np.array([1,2,3,1,2])==2"
   ]
  },
  {
   "cell_type": "code",
   "execution_count": 60,
   "metadata": {},
   "outputs": [],
   "source": [
    "def cross_val_index_by_beat(labels, k, shuffle=True):\n",
    "    indices = [[] for _ in range(k)]\n",
    "    n_classes = max(labels) + 1\n",
    "    for c in range(n_classes):\n",
    "        indices_in_class = [i for i, label in enumerate(labels) if label == c]\n",
    "        print(indices_in_class)\n",
    "        if shuffle:\n",
    "            random.shuffle(indices_in_class)\n",
    "        \n",
    "        increment = len(indices_in_class) // k\n",
    "        assert increment > 0\n",
    "        base = 0\n",
    "        for kk in range(k):\n",
    "            indices[kk].extend(indices_in_class[base:base + increment])\n",
    "            base = base + increment\n",
    "            print(\"inc\", indices[kk])\n",
    "    return indices"
   ]
  },
  {
   "cell_type": "code",
   "execution_count": 61,
   "metadata": {
    "scrolled": true
   },
   "outputs": [
    {
     "name": "stdout",
     "output_type": "stream",
     "text": [
      "[3, 6, 13]\n",
      "inc [6]\n",
      "inc [13]\n",
      "inc [3]\n",
      "[0, 1, 2, 4]\n",
      "inc [6, 0]\n",
      "inc [13, 1]\n",
      "inc [3, 4]\n",
      "[5, 7, 8, 9]\n",
      "inc [6, 0, 9]\n",
      "inc [13, 1, 8]\n",
      "inc [3, 4, 7]\n",
      "[10, 11, 12]\n",
      "inc [6, 0, 9, 12]\n",
      "inc [13, 1, 8, 10]\n",
      "inc [3, 4, 7, 11]\n"
     ]
    },
    {
     "data": {
      "text/plain": [
       "[[6, 0, 9, 12], [13, 1, 8, 10], [3, 4, 7, 11]]"
      ]
     },
     "execution_count": 61,
     "metadata": {},
     "output_type": "execute_result"
    }
   ],
   "source": [
    "k_folds = cross_val_index_by_beat([1,1,1,0,1,\n",
    "                                   2,0,2,2,2,\n",
    "                                   3, 3,3, 0], 3)\n",
    "k_folds"
   ]
  },
  {
   "cell_type": "code",
   "execution_count": 42,
   "metadata": {},
   "outputs": [
    {
     "name": "stdout",
     "output_type": "stream",
     "text": [
      "[0, 5]\n",
      "[1 7 2 8]\n",
      "\n",
      "[1, 7]\n",
      "[0 5 2 8]\n",
      "\n",
      "[2, 8]\n",
      "[0 5 1 7]\n",
      "\n"
     ]
    }
   ],
   "source": [
    "for kk in range(3):\n",
    "\n",
    "    indices_val = k_folds[kk]\n",
    "    indices_trn = np.ravel([k_folds[i] for i in range(3) if i != kk])\n",
    "    \n",
    "    print(indices_val)\n",
    "    print(indices_trn)\n",
    "    print()"
   ]
  },
  {
   "cell_type": "code",
   "execution_count": 45,
   "metadata": {},
   "outputs": [],
   "source": [
    "import random"
   ]
  },
  {
   "cell_type": "code",
   "execution_count": 46,
   "metadata": {},
   "outputs": [],
   "source": [
    "random.shuffle([1,2,3,4])"
   ]
  },
  {
   "cell_type": "code",
   "execution_count": null,
   "metadata": {},
   "outputs": [],
   "source": []
  }
 ],
 "metadata": {
  "kernelspec": {
   "display_name": "congyuml",
   "language": "python",
   "name": "congyuml"
  },
  "language_info": {
   "codemirror_mode": {
    "name": "ipython",
    "version": 3
   },
   "file_extension": ".py",
   "mimetype": "text/x-python",
   "name": "python",
   "nbconvert_exporter": "python",
   "pygments_lexer": "ipython3",
   "version": "3.6.8"
  }
 },
 "nbformat": 4,
 "nbformat_minor": 2
}
