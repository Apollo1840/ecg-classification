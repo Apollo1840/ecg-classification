{
 "cells": [
  {
   "cell_type": "code",
   "execution_count": 1,
   "metadata": {},
   "outputs": [],
   "source": [
    "def func(c):\n",
    "    a = 1\n",
    "    b = 2\n",
    "    print(locals())"
   ]
  },
  {
   "cell_type": "code",
   "execution_count": 2,
   "metadata": {},
   "outputs": [
    {
     "name": "stdout",
     "output_type": "stream",
     "text": [
      "{'b': 2, 'a': 1, 'c': 5}\n"
     ]
    }
   ],
   "source": [
    "func(5)"
   ]
  },
  {
   "cell_type": "code",
   "execution_count": 3,
   "metadata": {},
   "outputs": [
    {
     "name": "stdout",
     "output_type": "stream",
     "text": [
      "{'__name__': '__main__', '__doc__': 'Automatically created module for IPython interactive environment', '__package__': None, '__loader__': None, '__spec__': None, '__builtin__': <module 'builtins' (built-in)>, '__builtins__': <module 'builtins' (built-in)>, '_ih': ['', 'def func(c):\\n    a = 1\\n    b = 2\\n    print(locals())', 'func(5)', 'print(locals())'], '_oh': {}, '_dh': ['/home/congyu/congyu_program/pythons/forks/ecg-classification/python'], 'In': ['', 'def func(c):\\n    a = 1\\n    b = 2\\n    print(locals())', 'func(5)', 'print(locals())'], 'Out': {}, 'get_ipython': <bound method InteractiveShell.get_ipython of <ipykernel.zmqshell.ZMQInteractiveShell object at 0x7f85e7caee10>>, 'exit': <IPython.core.autocall.ZMQExitAutocall object at 0x7f85e7c9e2e8>, 'quit': <IPython.core.autocall.ZMQExitAutocall object at 0x7f85e7c9e2e8>, '_': '', '__': '', '___': '', '_i': 'func(5)', '_ii': 'def func(c):\\n    a = 1\\n    b = 2\\n    print(locals())', '_iii': '', '_i1': 'def func(c):\\n    a = 1\\n    b = 2\\n    print(locals())', 'func': <function func at 0x7f85e437e510>, '_i2': 'func(5)', '_i3': 'print(locals())'}\n"
     ]
    }
   ],
   "source": [
    "print(locals())"
   ]
  },
  {
   "cell_type": "code",
   "execution_count": 4,
   "metadata": {},
   "outputs": [],
   "source": [
    "a = 5"
   ]
  },
  {
   "cell_type": "code",
   "execution_count": 5,
   "metadata": {},
   "outputs": [
    {
     "name": "stdout",
     "output_type": "stream",
     "text": [
      "{'__name__': '__main__', '__doc__': 'Automatically created module for IPython interactive environment', '__package__': None, '__loader__': None, '__spec__': None, '__builtin__': <module 'builtins' (built-in)>, '__builtins__': <module 'builtins' (built-in)>, '_ih': ['', 'def func(c):\\n    a = 1\\n    b = 2\\n    print(locals())', 'func(5)', 'print(locals())', 'a = 5', 'print(locals())'], '_oh': {}, '_dh': ['/home/congyu/congyu_program/pythons/forks/ecg-classification/python'], 'In': ['', 'def func(c):\\n    a = 1\\n    b = 2\\n    print(locals())', 'func(5)', 'print(locals())', 'a = 5', 'print(locals())'], 'Out': {}, 'get_ipython': <bound method InteractiveShell.get_ipython of <ipykernel.zmqshell.ZMQInteractiveShell object at 0x7f85e7caee10>>, 'exit': <IPython.core.autocall.ZMQExitAutocall object at 0x7f85e7c9e2e8>, 'quit': <IPython.core.autocall.ZMQExitAutocall object at 0x7f85e7c9e2e8>, '_': '', '__': '', '___': '', '_i': 'a = 5', '_ii': 'print(locals())', '_iii': 'func(5)', '_i1': 'def func(c):\\n    a = 1\\n    b = 2\\n    print(locals())', 'func': <function func at 0x7f85e437e510>, '_i2': 'func(5)', '_i3': 'print(locals())', '_i4': 'a = 5', 'a': 5, '_i5': 'print(locals())'}\n"
     ]
    }
   ],
   "source": [
    "print(locals())"
   ]
  },
  {
   "cell_type": "code",
   "execution_count": 6,
   "metadata": {},
   "outputs": [
    {
     "data": {
      "text/plain": [
       "5"
      ]
     },
     "execution_count": 6,
     "metadata": {},
     "output_type": "execute_result"
    }
   ],
   "source": [
    "locals()[\"a\"]"
   ]
  },
  {
   "cell_type": "code",
   "execution_count": 19,
   "metadata": {},
   "outputs": [
    {
     "name": "stdout",
     "output_type": "stream",
     "text": [
      "time for test: 1.00 sec\n"
     ]
    }
   ],
   "source": [
    "import time\n",
    "class PrintTime():\n",
    "    def __init__(self, name, verbose=True):\n",
    "        self.name = name\n",
    "        self.start = None\n",
    "        self.end = None\n",
    "        self.verbose = verbose\n",
    "        \n",
    "    def __enter__(self):\n",
    "        if self.verbose:\n",
    "            self.start = time.time()\n",
    "    \n",
    "    def __exit__(self, type, value, traceback):\n",
    "        if self.verbose:\n",
    "            self.end = time.time()\n",
    "            print(\"time for {}: {} sec\".format(self.name, format(self.end - self.start, '.2f')))\n",
    "\n",
    "with PrintTime(\"test\"):\n",
    "    time.sleep(1)"
   ]
  },
  {
   "cell_type": "code",
   "execution_count": null,
   "metadata": {},
   "outputs": [],
   "source": []
  }
 ],
 "metadata": {
  "kernelspec": {
   "display_name": "congyuml",
   "language": "python",
   "name": "congyuml"
  },
  "language_info": {
   "codemirror_mode": {
    "name": "ipython",
    "version": 3
   },
   "file_extension": ".py",
   "mimetype": "text/x-python",
   "name": "python",
   "nbconvert_exporter": "python",
   "pygments_lexer": "ipython3",
   "version": "3.6.9"
  }
 },
 "nbformat": 4,
 "nbformat_minor": 2
}
