{
 "cells": [
  {
   "cell_type": "code",
   "execution_count": 1,
   "metadata": {},
   "outputs": [
    {
     "name": "stderr",
     "output_type": "stream",
     "text": [
      "Using TensorFlow backend.\n",
      "/home/congyu/.virtualenvs/congyuml/lib/python3.6/site-packages/tensorflow/python/framework/dtypes.py:516: FutureWarning: Passing (type, 1) or '1type' as a synonym of type is deprecated; in a future version of numpy, it will be understood as (type, (1,)) / '(1,)type'.\n",
      "  _np_qint8 = np.dtype([(\"qint8\", np.int8, 1)])\n",
      "/home/congyu/.virtualenvs/congyuml/lib/python3.6/site-packages/tensorflow/python/framework/dtypes.py:517: FutureWarning: Passing (type, 1) or '1type' as a synonym of type is deprecated; in a future version of numpy, it will be understood as (type, (1,)) / '(1,)type'.\n",
      "  _np_quint8 = np.dtype([(\"quint8\", np.uint8, 1)])\n",
      "/home/congyu/.virtualenvs/congyuml/lib/python3.6/site-packages/tensorflow/python/framework/dtypes.py:518: FutureWarning: Passing (type, 1) or '1type' as a synonym of type is deprecated; in a future version of numpy, it will be understood as (type, (1,)) / '(1,)type'.\n",
      "  _np_qint16 = np.dtype([(\"qint16\", np.int16, 1)])\n",
      "/home/congyu/.virtualenvs/congyuml/lib/python3.6/site-packages/tensorflow/python/framework/dtypes.py:519: FutureWarning: Passing (type, 1) or '1type' as a synonym of type is deprecated; in a future version of numpy, it will be understood as (type, (1,)) / '(1,)type'.\n",
      "  _np_quint16 = np.dtype([(\"quint16\", np.uint16, 1)])\n",
      "/home/congyu/.virtualenvs/congyuml/lib/python3.6/site-packages/tensorflow/python/framework/dtypes.py:520: FutureWarning: Passing (type, 1) or '1type' as a synonym of type is deprecated; in a future version of numpy, it will be understood as (type, (1,)) / '(1,)type'.\n",
      "  _np_qint32 = np.dtype([(\"qint32\", np.int32, 1)])\n",
      "/home/congyu/.virtualenvs/congyuml/lib/python3.6/site-packages/tensorflow/python/framework/dtypes.py:525: FutureWarning: Passing (type, 1) or '1type' as a synonym of type is deprecated; in a future version of numpy, it will be understood as (type, (1,)) / '(1,)type'.\n",
      "  np_resource = np.dtype([(\"resource\", np.ubyte, 1)])\n"
     ]
    }
   ],
   "source": [
    "from train_SVM import load_ml_data"
   ]
  },
  {
   "cell_type": "code",
   "execution_count": 2,
   "metadata": {},
   "outputs": [],
   "source": [
    "ws = [90, 90]\n",
    "winL, winR = ws\n",
    "\n",
    "do_preprocess=True\n",
    "reduced_DS=False\n",
    "maxRR=True\n",
    "use_RR=False\n",
    "norm_RR=True\n",
    "compute_morph=['resample_10', 'lbp', 'hbf5', 'wvlt', 'HOS']"
   ]
  },
  {
   "cell_type": "code",
   "execution_count": 3,
   "metadata": {},
   "outputs": [
    {
     "name": "stderr",
     "output_type": "stream",
     "text": [
      "\r",
      "  0%|          | 0/44 [00:00<?, ?it/s]"
     ]
    },
    {
     "name": "stdout",
     "output_type": "stream",
     "text": [
      "Loading MIT BIH arr (DS12) ...\n"
     ]
    },
    {
     "name": "stderr",
     "output_type": "stream",
     "text": [
      "100%|██████████| 44/44 [08:08<00:00, 11.11s/it]\n"
     ]
    },
    {
     "name": "stdout",
     "output_type": "stream",
     "text": [
      "Saving signal processed data ...\n",
      "getting rr features ...\n",
      "working on resample_10 ...\n",
      "(100693, 14)\n",
      "time for resample_10: 31.83 sec\n",
      "working on lbp ...\n",
      "(100693, 30)\n",
      "time for lbp: 132.23 sec\n",
      "working on hbf5 ...\n",
      "(100693, 45)\n",
      "time for hbf5: 82.77 sec\n",
      "working on wvlt ...\n",
      "(100693, 68)\n",
      "time for wvlt: 80.94 sec\n",
      "working on HOS ...\n",
      "(100693, 78)\n",
      "time for HOS: 151.54 sec\n",
      "writing pickle: /home/congyu/dataset/ECG/mitdb/ml_learning/features/w_90_90_DS12_rm_bsline_maxRR_norm_RR_resample_10_lbp_hbf5_wvlt_HOS_MLII.pkl...\n",
      "normalizing the data ... \n"
     ]
    }
   ],
   "source": [
    "tr_features, tr_labels, eval_features, eval_labels = load_ml_data(\n",
    "    (winL, winR),\n",
    "    do_preprocess,\n",
    "    reduced_DS,\n",
    "    maxRR,\n",
    "    use_RR,\n",
    "    norm_RR,\n",
    "    compute_morph,\n",
    "    cross_patient=False,\n",
    "    verbose=True)"
   ]
  },
  {
   "cell_type": "code",
   "execution_count": 4,
   "metadata": {},
   "outputs": [
    {
     "name": "stdout",
     "output_type": "stream",
     "text": [
      "(80554, 78)\n",
      "(80554,)\n",
      "(20139, 78)\n",
      "(20139,)\n"
     ]
    }
   ],
   "source": [
    "print(tr_features.shape)\n",
    "print(tr_labels.shape)\n",
    "print(eval_features.shape)\n",
    "print(eval_labels.shape)"
   ]
  },
  {
   "cell_type": "code",
   "execution_count": 9,
   "metadata": {},
   "outputs": [],
   "source": [
    "from train_SVM import calc_class_weights"
   ]
  },
  {
   "cell_type": "code",
   "execution_count": 10,
   "metadata": {},
   "outputs": [],
   "source": [
    "class_weights = calc_class_weights(tr_labels)"
   ]
  },
  {
   "cell_type": "code",
   "execution_count": 11,
   "metadata": {},
   "outputs": [],
   "source": [
    "from sklearn import svm"
   ]
  },
  {
   "cell_type": "code",
   "execution_count": 12,
   "metadata": {},
   "outputs": [],
   "source": [
    "svm_model = svm.SVC(C=0.01, \n",
    "                    kernel='rbf', \n",
    "                    degree=3, \n",
    "                    gamma='auto',\n",
    "                    coef0=0.0, \n",
    "                    shrinking=True, \n",
    "                    probability=False, \n",
    "                    tol=0.001,\n",
    "                    cache_size=200, \n",
    "                    class_weight=class_weights, \n",
    "                    max_iter=-1, \n",
    "                    decision_function_shape=\"ovo\", \n",
    "                    random_state=None)"
   ]
  },
  {
   "cell_type": "code",
   "execution_count": 14,
   "metadata": {},
   "outputs": [],
   "source": [
    "from utils import PrintTime"
   ]
  },
  {
   "cell_type": "code",
   "execution_count": 15,
   "metadata": {},
   "outputs": [],
   "source": [
    "with PrintTime(\"training the model\"):\n",
    "    svm_model.fit(tr_features, tr_labels)"
   ]
  },
  {
   "cell_type": "code",
   "execution_count": 22,
   "metadata": {},
   "outputs": [],
   "source": [
    "from sklearn.metrics import f1_score, classification_report"
   ]
  },
  {
   "cell_type": "code",
   "execution_count": 18,
   "metadata": {},
   "outputs": [],
   "source": [
    "y_pred = svm_model.predict(eval_features)"
   ]
  },
  {
   "cell_type": "code",
   "execution_count": 19,
   "metadata": {},
   "outputs": [
    {
     "name": "stdout",
     "output_type": "stream",
     "text": [
      "marco f1 score 0.7180920925810662\n"
     ]
    }
   ],
   "source": [
    "print(\"marco f1 score\", f1_score(eval_labels, y_pred, average='macro'))"
   ]
  },
  {
   "cell_type": "code",
   "execution_count": 20,
   "metadata": {},
   "outputs": [],
   "source": [
    "from constant import AAMI_CLASSES"
   ]
  },
  {
   "cell_type": "code",
   "execution_count": 23,
   "metadata": {},
   "outputs": [
    {
     "name": "stdout",
     "output_type": "stream",
     "text": [
      "              precision    recall  f1-score   support\n",
      "\n",
      "           F       0.22      0.93      0.35       176\n",
      "           N       1.00      0.93      0.96     18019\n",
      "        SVEB       0.50      0.90      0.64       577\n",
      "         VEB       0.88      0.96      0.92      1367\n",
      "\n",
      "    accuracy                           0.93     20139\n",
      "   macro avg       0.65      0.93      0.72     20139\n",
      "weighted avg       0.97      0.93      0.95     20139\n",
      "\n"
     ]
    }
   ],
   "source": [
    "print(classification_report(eval_labels, y_pred, target_names=AAMI_CLASSES))"
   ]
  },
  {
   "cell_type": "code",
   "execution_count": 25,
   "metadata": {},
   "outputs": [],
   "source": [
    "model_svm_path=\"/home/congyu/dataset/ECG/mitdb/ml_learning/svm_models/baseline_model.joblib.pkl\""
   ]
  },
  {
   "cell_type": "code",
   "execution_count": 29,
   "metadata": {},
   "outputs": [],
   "source": [
    "import os\n",
    "import joblib"
   ]
  },
  {
   "cell_type": "code",
   "execution_count": 30,
   "metadata": {},
   "outputs": [],
   "source": [
    "if model_svm_path:\n",
    "    # Export model: save/write trained SVM model\n",
    "    if not os.path.exists(os.path.dirname(model_svm_path)):\n",
    "        os.makedirs(os.path.dirname(model_svm_path))\n",
    "    joblib.dump(svm_model, model_svm_path)"
   ]
  },
  {
   "cell_type": "code",
   "execution_count": null,
   "metadata": {},
   "outputs": [],
   "source": []
  },
  {
   "cell_type": "code",
   "execution_count": null,
   "metadata": {},
   "outputs": [],
   "source": []
  },
  {
   "cell_type": "code",
   "execution_count": null,
   "metadata": {},
   "outputs": [],
   "source": []
  },
  {
   "cell_type": "code",
   "execution_count": null,
   "metadata": {},
   "outputs": [],
   "source": [
    "decision_ovo = svm_model.decision_function(eval_features)"
   ]
  },
  {
   "cell_type": "code",
   "execution_count": null,
   "metadata": {},
   "outputs": [],
   "source": [
    "predict_ovo, counter = ovo_voting(decision_ovo, 4)"
   ]
  },
  {
   "cell_type": "code",
   "execution_count": null,
   "metadata": {},
   "outputs": [],
   "source": [
    "perf_measures = compute_AAMI_performance_measures(predict_ovo, labels)\n",
    "write_AAAMI_results_gamma(output_path, gamma_value, perf_measures, C_value, voting_strategy, DS)"
   ]
  }
 ],
 "metadata": {
  "kernelspec": {
   "display_name": "congyuml",
   "language": "python",
   "name": "congyuml"
  },
  "language_info": {
   "codemirror_mode": {
    "name": "ipython",
    "version": 3
   },
   "file_extension": ".py",
   "mimetype": "text/x-python",
   "name": "python",
   "nbconvert_exporter": "python",
   "pygments_lexer": "ipython3",
   "version": "3.6.9"
  }
 },
 "nbformat": 4,
 "nbformat_minor": 4
}
