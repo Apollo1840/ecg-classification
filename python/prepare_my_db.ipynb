{
 "cells": [
  {
   "cell_type": "code",
   "execution_count": 1,
   "metadata": {},
   "outputs": [],
   "source": [
    "from data_load import load_mitbih_db"
   ]
  },
  {
   "cell_type": "code",
   "execution_count": 5,
   "metadata": {},
   "outputs": [
    {
     "name": "stdout",
     "output_type": "stream",
     "text": [
      "make db for DS(DS1), is_reduce(True), do_preprocess(True)\n",
      "make db for DS(DS1), is_reduce(True), do_preprocess(False)\n",
      "make db for DS(DS1), is_reduce(False), do_preprocess(True)\n",
      "make db for DS(DS1), is_reduce(False), do_preprocess(False)\n",
      "make db for DS(DS2), is_reduce(True), do_preprocess(True)\n",
      "make db for DS(DS2), is_reduce(True), do_preprocess(False)\n",
      "make db for DS(DS2), is_reduce(False), do_preprocess(True)\n",
      "make db for DS(DS2), is_reduce(False), do_preprocess(False)\n"
     ]
    }
   ],
   "source": [
    "for DS in [\"DS1\", \"DS2\"]:\n",
    "    for is_reduce in (True, False):\n",
    "        for do_preprocess in (True, False):\n",
    "            print(\"make db for DS({}), is_reduce({}), do_preprocess({})\".format(DS, is_reduce, do_preprocess))\n",
    "            "
   ]
  },
  {
   "cell_type": "code",
   "execution_count": 4,
   "metadata": {},
   "outputs": [
    {
     "name": "stdout",
     "output_type": "stream",
     "text": [
      "Loading MIT BIH arr (DS1) ...\n",
      "load from /home/congyu/dataset/ECG/mitdb/ml_learning/python_mit_reduced__rm_bsline_wL_90_wR_90_DS1.pkl\n"
     ]
    }
   ],
   "source": [
    "my_db = load_mitbih_db(\"DS1\", \n",
    "                       True, \n",
    "                       ws=[90, 90], \n",
    "                       do_preprocess=True)"
   ]
  },
  {
   "cell_type": "code",
   "execution_count": null,
   "metadata": {},
   "outputs": [],
   "source": [
    "my_db = load_mitbih_db(\"DS2\", \n",
    "                       True, \n",
    "                       ws=[90, 90], \n",
    "                       do_preprocess=True)"
   ]
  },
  {
   "cell_type": "code",
   "execution_count": null,
   "metadata": {},
   "outputs": [],
   "source": [
    "my_db = load_mitbih_db(\"DS1\", \n",
    "                       False, \n",
    "                       ws=[90, 90], \n",
    "                       do_preprocess=True)"
   ]
  },
  {
   "cell_type": "code",
   "execution_count": null,
   "metadata": {},
   "outputs": [],
   "source": [
    "my_db = load_mitbih_db(\"DS1\", \n",
    "                       False, \n",
    "                       ws=[90, 90], \n",
    "                       do_preprocess=True)"
   ]
  }
 ],
 "metadata": {
  "kernelspec": {
   "display_name": "congyuml",
   "language": "python",
   "name": "congyuml"
  },
  "language_info": {
   "codemirror_mode": {
    "name": "ipython",
    "version": 3
   },
   "file_extension": ".py",
   "mimetype": "text/x-python",
   "name": "python",
   "nbconvert_exporter": "python",
   "pygments_lexer": "ipython3",
   "version": "3.6.9"
  }
 },
 "nbformat": 4,
 "nbformat_minor": 4
}
